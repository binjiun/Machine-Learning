{
 "cells": [
  {
   "cell_type": "code",
   "execution_count": 1,
   "metadata": {},
   "outputs": [],
   "source": [
    "from sklearn import datasets\n",
    "from sklearn.model_selection import train_test_split\n",
    "from sklearn.cluster import KMeans\n",
    "import pandas as pd\n",
    "import seaborn as sns\n",
    "import matplotlib.pyplot as plt\n",
    "import numpy as np\n",
    "from matplotlib.font_manager import FontProperties\n",
    "myfont=FontProperties(fname=r'C:\\Windows\\Fonts\\kaiu.ttf',size=14)\n",
    "sns.set(font=myfont.get_name())"
   ]
  },
  {
   "cell_type": "code",
   "execution_count": 2,
   "metadata": {},
   "outputs": [
    {
     "data": {
      "text/html": [
       "<div>\n",
       "<style scoped>\n",
       "    .dataframe tbody tr th:only-of-type {\n",
       "        vertical-align: middle;\n",
       "    }\n",
       "\n",
       "    .dataframe tbody tr th {\n",
       "        vertical-align: top;\n",
       "    }\n",
       "\n",
       "    .dataframe thead th {\n",
       "        text-align: right;\n",
       "    }\n",
       "</style>\n",
       "<table border=\"1\" class=\"dataframe\">\n",
       "  <thead>\n",
       "    <tr style=\"text-align: right;\">\n",
       "      <th></th>\n",
       "      <th>Air Pressure</th>\n",
       "      <th>Air Temperature</th>\n",
       "      <th>Relative Humidity</th>\n",
       "      <th>Wind Speed</th>\n",
       "      <th>Precipitation</th>\n",
       "    </tr>\n",
       "  </thead>\n",
       "  <tbody>\n",
       "    <tr>\n",
       "      <th>0</th>\n",
       "      <td>970.3</td>\n",
       "      <td>15.6</td>\n",
       "      <td>94.0</td>\n",
       "      <td>0.3</td>\n",
       "      <td>0.0</td>\n",
       "    </tr>\n",
       "    <tr>\n",
       "      <th>1</th>\n",
       "      <td>970.0</td>\n",
       "      <td>15.2</td>\n",
       "      <td>94.0</td>\n",
       "      <td>0.0</td>\n",
       "      <td>0.0</td>\n",
       "    </tr>\n",
       "    <tr>\n",
       "      <th>2</th>\n",
       "      <td>969.8</td>\n",
       "      <td>14.7</td>\n",
       "      <td>98.0</td>\n",
       "      <td>0.0</td>\n",
       "      <td>0.0</td>\n",
       "    </tr>\n",
       "  </tbody>\n",
       "</table>\n",
       "</div>"
      ],
      "text/plain": [
       "   Air Pressure  Air Temperature  Relative Humidity  Wind Speed  Precipitation\n",
       "0         970.3             15.6               94.0         0.3            0.0\n",
       "1         970.0             15.2               94.0         0.0            0.0\n",
       "2         969.8             14.7               98.0         0.0            0.0"
      ]
     },
     "execution_count": 2,
     "metadata": {},
     "output_type": "execute_result"
    }
   ],
   "source": [
    "df = pd.read_csv('imputeData2017.csv' , encoding = \"big5\")\n",
    "df_nonull = df.dropna()\n",
    "x = df_nonull.drop(['PM2.5','Daye','Time'], axis=1)\n",
    "y = df_nonull['PM2.5']\n",
    "x.head(3)"
   ]
  },
  {
   "cell_type": "code",
   "execution_count": 3,
   "metadata": {},
   "outputs": [
    {
     "name": "stdout",
     "output_type": "stream",
     "text": [
      "<class 'pandas.core.frame.DataFrame'>\n",
      "RangeIndex: 8760 entries, 0 to 8759\n",
      "Data columns (total 8 columns):\n",
      "Daye                 8760 non-null object\n",
      "Time                 8760 non-null int64\n",
      "Air Pressure         8760 non-null float64\n",
      "Air Temperature      8760 non-null float64\n",
      "Relative Humidity    8760 non-null float64\n",
      "Wind Speed           8760 non-null float64\n",
      "Precipitation        8760 non-null float64\n",
      "PM2.5                8760 non-null float64\n",
      "dtypes: float64(6), int64(1), object(1)\n",
      "memory usage: 547.6+ KB\n"
     ]
    }
   ],
   "source": [
    "df.info()"
   ]
  },
  {
   "cell_type": "code",
   "execution_count": 4,
   "metadata": {
    "scrolled": true
   },
   "outputs": [
    {
     "data": {
      "text/html": [
       "<div>\n",
       "<style scoped>\n",
       "    .dataframe tbody tr th:only-of-type {\n",
       "        vertical-align: middle;\n",
       "    }\n",
       "\n",
       "    .dataframe tbody tr th {\n",
       "        vertical-align: top;\n",
       "    }\n",
       "\n",
       "    .dataframe thead th {\n",
       "        text-align: right;\n",
       "    }\n",
       "</style>\n",
       "<table border=\"1\" class=\"dataframe\">\n",
       "  <thead>\n",
       "    <tr style=\"text-align: right;\">\n",
       "      <th></th>\n",
       "      <th>Time</th>\n",
       "      <th>Air Pressure</th>\n",
       "      <th>Air Temperature</th>\n",
       "      <th>Relative Humidity</th>\n",
       "      <th>Wind Speed</th>\n",
       "      <th>Precipitation</th>\n",
       "      <th>PM2.5</th>\n",
       "    </tr>\n",
       "  </thead>\n",
       "  <tbody>\n",
       "    <tr>\n",
       "      <th>count</th>\n",
       "      <td>8760.000000</td>\n",
       "      <td>8760.000000</td>\n",
       "      <td>8760.000000</td>\n",
       "      <td>8760.000000</td>\n",
       "      <td>8760.000000</td>\n",
       "      <td>8760.000000</td>\n",
       "      <td>8760.000000</td>\n",
       "    </tr>\n",
       "    <tr>\n",
       "      <th>mean</th>\n",
       "      <td>12.500000</td>\n",
       "      <td>962.873502</td>\n",
       "      <td>22.525309</td>\n",
       "      <td>83.057954</td>\n",
       "      <td>0.890812</td>\n",
       "      <td>0.320988</td>\n",
       "      <td>24.625568</td>\n",
       "    </tr>\n",
       "    <tr>\n",
       "      <th>std</th>\n",
       "      <td>6.922582</td>\n",
       "      <td>4.397354</td>\n",
       "      <td>4.956583</td>\n",
       "      <td>16.285166</td>\n",
       "      <td>0.795717</td>\n",
       "      <td>2.220969</td>\n",
       "      <td>14.448751</td>\n",
       "    </tr>\n",
       "    <tr>\n",
       "      <th>min</th>\n",
       "      <td>1.000000</td>\n",
       "      <td>940.400000</td>\n",
       "      <td>9.100000</td>\n",
       "      <td>24.000000</td>\n",
       "      <td>0.000000</td>\n",
       "      <td>0.000000</td>\n",
       "      <td>2.000000</td>\n",
       "    </tr>\n",
       "    <tr>\n",
       "      <th>25%</th>\n",
       "      <td>6.750000</td>\n",
       "      <td>960.100000</td>\n",
       "      <td>19.100000</td>\n",
       "      <td>70.000000</td>\n",
       "      <td>0.400000</td>\n",
       "      <td>0.000000</td>\n",
       "      <td>14.000000</td>\n",
       "    </tr>\n",
       "    <tr>\n",
       "      <th>50%</th>\n",
       "      <td>12.500000</td>\n",
       "      <td>962.700000</td>\n",
       "      <td>22.900000</td>\n",
       "      <td>89.000000</td>\n",
       "      <td>0.600000</td>\n",
       "      <td>0.000000</td>\n",
       "      <td>22.000000</td>\n",
       "    </tr>\n",
       "    <tr>\n",
       "      <th>75%</th>\n",
       "      <td>18.250000</td>\n",
       "      <td>965.700000</td>\n",
       "      <td>25.800000</td>\n",
       "      <td>98.000000</td>\n",
       "      <td>1.200000</td>\n",
       "      <td>0.000000</td>\n",
       "      <td>33.000000</td>\n",
       "    </tr>\n",
       "    <tr>\n",
       "      <th>max</th>\n",
       "      <td>24.000000</td>\n",
       "      <td>977.300000</td>\n",
       "      <td>36.200000</td>\n",
       "      <td>99.000000</td>\n",
       "      <td>5.700000</td>\n",
       "      <td>68.500000</td>\n",
       "      <td>127.000000</td>\n",
       "    </tr>\n",
       "  </tbody>\n",
       "</table>\n",
       "</div>"
      ],
      "text/plain": [
       "              Time  Air Pressure  Air Temperature  Relative Humidity  \\\n",
       "count  8760.000000   8760.000000      8760.000000        8760.000000   \n",
       "mean     12.500000    962.873502        22.525309          83.057954   \n",
       "std       6.922582      4.397354         4.956583          16.285166   \n",
       "min       1.000000    940.400000         9.100000          24.000000   \n",
       "25%       6.750000    960.100000        19.100000          70.000000   \n",
       "50%      12.500000    962.700000        22.900000          89.000000   \n",
       "75%      18.250000    965.700000        25.800000          98.000000   \n",
       "max      24.000000    977.300000        36.200000          99.000000   \n",
       "\n",
       "        Wind Speed  Precipitation        PM2.5  \n",
       "count  8760.000000    8760.000000  8760.000000  \n",
       "mean      0.890812       0.320988    24.625568  \n",
       "std       0.795717       2.220969    14.448751  \n",
       "min       0.000000       0.000000     2.000000  \n",
       "25%       0.400000       0.000000    14.000000  \n",
       "50%       0.600000       0.000000    22.000000  \n",
       "75%       1.200000       0.000000    33.000000  \n",
       "max       5.700000      68.500000   127.000000  "
      ]
     },
     "execution_count": 4,
     "metadata": {},
     "output_type": "execute_result"
    }
   ],
   "source": [
    "df.describe()"
   ]
  },
  {
   "cell_type": "code",
   "execution_count": 5,
   "metadata": {
    "scrolled": true
   },
   "outputs": [
    {
     "data": {
      "text/html": [
       "<div>\n",
       "<style scoped>\n",
       "    .dataframe tbody tr th:only-of-type {\n",
       "        vertical-align: middle;\n",
       "    }\n",
       "\n",
       "    .dataframe tbody tr th {\n",
       "        vertical-align: top;\n",
       "    }\n",
       "\n",
       "    .dataframe thead th {\n",
       "        text-align: right;\n",
       "    }\n",
       "</style>\n",
       "<table border=\"1\" class=\"dataframe\">\n",
       "  <thead>\n",
       "    <tr style=\"text-align: right;\">\n",
       "      <th></th>\n",
       "      <th>Daye</th>\n",
       "      <th>Time</th>\n",
       "      <th>Air Pressure</th>\n",
       "      <th>Air Temperature</th>\n",
       "      <th>Relative Humidity</th>\n",
       "      <th>Wind Speed</th>\n",
       "      <th>Precipitation</th>\n",
       "      <th>PM2.5</th>\n",
       "    </tr>\n",
       "  </thead>\n",
       "  <tbody>\n",
       "    <tr>\n",
       "      <th>0</th>\n",
       "      <td>False</td>\n",
       "      <td>False</td>\n",
       "      <td>False</td>\n",
       "      <td>False</td>\n",
       "      <td>False</td>\n",
       "      <td>False</td>\n",
       "      <td>False</td>\n",
       "      <td>False</td>\n",
       "    </tr>\n",
       "    <tr>\n",
       "      <th>1</th>\n",
       "      <td>False</td>\n",
       "      <td>False</td>\n",
       "      <td>False</td>\n",
       "      <td>False</td>\n",
       "      <td>False</td>\n",
       "      <td>False</td>\n",
       "      <td>False</td>\n",
       "      <td>False</td>\n",
       "    </tr>\n",
       "    <tr>\n",
       "      <th>2</th>\n",
       "      <td>False</td>\n",
       "      <td>False</td>\n",
       "      <td>False</td>\n",
       "      <td>False</td>\n",
       "      <td>False</td>\n",
       "      <td>False</td>\n",
       "      <td>False</td>\n",
       "      <td>False</td>\n",
       "    </tr>\n",
       "    <tr>\n",
       "      <th>3</th>\n",
       "      <td>False</td>\n",
       "      <td>False</td>\n",
       "      <td>False</td>\n",
       "      <td>False</td>\n",
       "      <td>False</td>\n",
       "      <td>False</td>\n",
       "      <td>False</td>\n",
       "      <td>False</td>\n",
       "    </tr>\n",
       "    <tr>\n",
       "      <th>4</th>\n",
       "      <td>False</td>\n",
       "      <td>False</td>\n",
       "      <td>False</td>\n",
       "      <td>False</td>\n",
       "      <td>False</td>\n",
       "      <td>False</td>\n",
       "      <td>False</td>\n",
       "      <td>False</td>\n",
       "    </tr>\n",
       "    <tr>\n",
       "      <th>...</th>\n",
       "      <td>...</td>\n",
       "      <td>...</td>\n",
       "      <td>...</td>\n",
       "      <td>...</td>\n",
       "      <td>...</td>\n",
       "      <td>...</td>\n",
       "      <td>...</td>\n",
       "      <td>...</td>\n",
       "    </tr>\n",
       "    <tr>\n",
       "      <th>8755</th>\n",
       "      <td>False</td>\n",
       "      <td>False</td>\n",
       "      <td>False</td>\n",
       "      <td>False</td>\n",
       "      <td>False</td>\n",
       "      <td>False</td>\n",
       "      <td>False</td>\n",
       "      <td>False</td>\n",
       "    </tr>\n",
       "    <tr>\n",
       "      <th>8756</th>\n",
       "      <td>False</td>\n",
       "      <td>False</td>\n",
       "      <td>False</td>\n",
       "      <td>False</td>\n",
       "      <td>False</td>\n",
       "      <td>False</td>\n",
       "      <td>False</td>\n",
       "      <td>False</td>\n",
       "    </tr>\n",
       "    <tr>\n",
       "      <th>8757</th>\n",
       "      <td>False</td>\n",
       "      <td>False</td>\n",
       "      <td>False</td>\n",
       "      <td>False</td>\n",
       "      <td>False</td>\n",
       "      <td>False</td>\n",
       "      <td>False</td>\n",
       "      <td>False</td>\n",
       "    </tr>\n",
       "    <tr>\n",
       "      <th>8758</th>\n",
       "      <td>False</td>\n",
       "      <td>False</td>\n",
       "      <td>False</td>\n",
       "      <td>False</td>\n",
       "      <td>False</td>\n",
       "      <td>False</td>\n",
       "      <td>False</td>\n",
       "      <td>False</td>\n",
       "    </tr>\n",
       "    <tr>\n",
       "      <th>8759</th>\n",
       "      <td>False</td>\n",
       "      <td>False</td>\n",
       "      <td>False</td>\n",
       "      <td>False</td>\n",
       "      <td>False</td>\n",
       "      <td>False</td>\n",
       "      <td>False</td>\n",
       "      <td>False</td>\n",
       "    </tr>\n",
       "  </tbody>\n",
       "</table>\n",
       "<p>8760 rows × 8 columns</p>\n",
       "</div>"
      ],
      "text/plain": [
       "       Daye   Time  Air Pressure  Air Temperature  Relative Humidity  \\\n",
       "0     False  False         False            False              False   \n",
       "1     False  False         False            False              False   \n",
       "2     False  False         False            False              False   \n",
       "3     False  False         False            False              False   \n",
       "4     False  False         False            False              False   \n",
       "...     ...    ...           ...              ...                ...   \n",
       "8755  False  False         False            False              False   \n",
       "8756  False  False         False            False              False   \n",
       "8757  False  False         False            False              False   \n",
       "8758  False  False         False            False              False   \n",
       "8759  False  False         False            False              False   \n",
       "\n",
       "      Wind Speed  Precipitation  PM2.5  \n",
       "0          False          False  False  \n",
       "1          False          False  False  \n",
       "2          False          False  False  \n",
       "3          False          False  False  \n",
       "4          False          False  False  \n",
       "...          ...            ...    ...  \n",
       "8755       False          False  False  \n",
       "8756       False          False  False  \n",
       "8757       False          False  False  \n",
       "8758       False          False  False  \n",
       "8759       False          False  False  \n",
       "\n",
       "[8760 rows x 8 columns]"
      ]
     },
     "execution_count": 5,
     "metadata": {},
     "output_type": "execute_result"
    }
   ],
   "source": [
    "df.isnull()"
   ]
  },
  {
   "cell_type": "code",
   "execution_count": 6,
   "metadata": {
    "scrolled": false
   },
   "outputs": [
    {
     "data": {
      "text/plain": [
       "Text(0.5, 115.20937499999997, '特徵')"
      ]
     },
     "execution_count": 6,
     "metadata": {},
     "output_type": "execute_result"
    },
    {
     "data": {
      "image/png": "[encoded data removed]",
      "text/plain": [
       "<Figure size 720x720 with 2 Axes>"
      ]
     },
     "metadata": {
      "needs_background": "light"
     },
     "output_type": "display_data"
    }
   ],
   "source": [
    "a = df.corr()\n",
    "fig, ax = plt.subplots(figsize = (10,10))\n",
    "#二維的陣列的熱力圖，橫軸和數軸的ticklabels要加上去的話，既可以通過將array轉換成有column\n",
    "#和index的DataFrame直接繪圖生成，也可以後續再加上去。後面加上去的話，更靈活，包括可設定labels大小方向等。\n",
    "sns.heatmap(pd.DataFrame(np.round(a,2), columns =df.columns, index = df.columns), \n",
    "                annot=True, vmax=1,vmin = 0, xticklabels= True, yticklabels= True, square=True, cmap=\"YlGnBu\")\n",
    "#sns.heatmap(np.round(a,2), annot=True, vmax=1,vmin = 0, xticklabels= True, yticklabels= True, \n",
    "#            square=True, cmap=\"YlGnBu\")\n",
    "ax.set_title('二維陣列熱力圖', fontsize = 18)\n",
    "ax.set_ylabel('特徵', fontsize = 18)\n",
    "ax.set_xlabel('特徵', fontsize = 18) #橫變成y軸，跟矩陣原始的佈局情況是一樣的"
   ]
  },
  {
   "cell_type": "code",
   "execution_count": 7,
   "metadata": {
    "scrolled": true
   },
   "outputs": [
    {
     "data": {
      "text/plain": [
       "<matplotlib.axes._subplots.AxesSubplot at 0x160ccb16780>"
      ]
     },
     "execution_count": 7,
     "metadata": {},
     "output_type": "execute_result"
    },
    {
     "data": {
      "image/png": "[encoded data removed]",
      "text/plain": [
       "<Figure size 432x288 with 1 Axes>"
      ]
     },
     "metadata": {
      "needs_background": "light"
     },
     "output_type": "display_data"
    }
   ],
   "source": [
    "sns.countplot(y)"
   ]
  },
  {
   "cell_type": "code",
   "execution_count": 8,
   "metadata": {},
   "outputs": [
    {
     "data": {
      "image/png": "[encoded data removed]",
      "text/plain": [
       "<Figure size 432x288 with 1 Axes>"
      ]
     },
     "metadata": {
      "needs_background": "light"
     },
     "output_type": "display_data"
    },
    {
     "name": "stdout",
     "output_type": "stream",
     "text": [
      "標準差 : 4.397354270733905\n"
     ]
    }
   ],
   "source": [
    "df2=df['Air Pressure']\n",
    "\n",
    "\n",
    "df2.plot(kind='kde',title='Air Pressure')\n",
    "plt.show()\n",
    "\n",
    "print('標準差 :',df2.std())"
   ]
  },
  {
   "cell_type": "code",
   "execution_count": 9,
   "metadata": {},
   "outputs": [
    {
     "data": {
      "image/png": "[encoded data removed]",
      "text/plain": [
       "<Figure size 432x288 with 1 Axes>"
      ]
     },
     "metadata": {
      "needs_background": "light"
     },
     "output_type": "display_data"
    },
    {
     "name": "stdout",
     "output_type": "stream",
     "text": [
      "標準差 : 4.956583399183954\n"
     ]
    }
   ],
   "source": [
    "df2=df['Air Temperature']\n",
    "\n",
    "\n",
    "df2.plot(kind='kde',title='\tAir Temperature')\n",
    "plt.show()\n",
    "\n",
    "print('標準差 :',df2.std())"
   ]
  },
  {
   "cell_type": "code",
   "execution_count": 10,
   "metadata": {},
   "outputs": [
    {
     "data": {
      "image/png": "[encoded data removed]",
      "text/plain": [
       "<Figure size 432x288 with 1 Axes>"
      ]
     },
     "metadata": {
      "needs_background": "light"
     },
     "output_type": "display_data"
    },
    {
     "name": "stdout",
     "output_type": "stream",
     "text": [
      "標準差 : 0.7957173370243045\n"
     ]
    }
   ],
   "source": [
    "df2=df['Wind Speed']\n",
    "\n",
    "\n",
    "df2.plot(kind='kde',title='Wind Speed')\n",
    "plt.show()\n",
    "\n",
    "print('標準差 :',df2.std())"
   ]
  },
  {
   "cell_type": "code",
   "execution_count": 11,
   "metadata": {},
   "outputs": [
    {
     "data": {
      "image/png": "[encoded data removed]",
      "text/plain": [
       "<Figure size 432x288 with 1 Axes>"
      ]
     },
     "metadata": {
      "needs_background": "light"
     },
     "output_type": "display_data"
    },
    {
     "name": "stdout",
     "output_type": "stream",
     "text": [
      "標準差 : 2.2209687300026455\n"
     ]
    }
   ],
   "source": [
    "df2=df['Precipitation']\n",
    "\n",
    "\n",
    "df2.plot(kind='kde',title='Precipitation')\n",
    "plt.show()\n",
    "\n",
    "print('標準差 :',df2.std())"
   ]
  },
  {
   "cell_type": "code",
   "execution_count": 12,
   "metadata": {
    "scrolled": true
   },
   "outputs": [
    {
     "data": {
      "image/png": "[encoded data removed]",
      "text/plain": [
       "<Figure size 432x288 with 1 Axes>"
      ]
     },
     "metadata": {
      "needs_background": "light"
     },
     "output_type": "display_data"
    },
    {
     "name": "stdout",
     "output_type": "stream",
     "text": [
      "標準差 : 14.448751272619385\n"
     ]
    }
   ],
   "source": [
    "df2=df['PM2.5']\n",
    "\n",
    "\n",
    "df2.plot(kind='kde',title='PM2.5')\n",
    "plt.show()\n",
    "\n",
    "print('標準差 :',df2.std())"
   ]
  },
  {
   "cell_type": "code",
   "execution_count": 13,
   "metadata": {},
   "outputs": [
    {
     "name": "stdout",
     "output_type": "stream",
     "text": [
      "異常値:  [ 63.  63.  63.  64.  62.  63.  62.  62.  65.  67.  68.  64.  66.  70.\n",
      "  69.  75.  80.  80.  80.  76.  69.  66.  64.  65.  63.  64.  64.  65.\n",
      "  62.  70.  77.  70.  67.  71.  73.  72.  67.  63.  64.  63.  96. 123.\n",
      " 126. 127. 127. 124. 116. 101.  95.  99.  98.  90.  89.  84.  86. 102.\n",
      "  91.  76.  91.  94.  87.  75.  69.  65.  69.  71.  71.  64.  62.  62.\n",
      "  65.  65.  64.  66.  63.  64.  62.  65.  68.  67.  70.  67.  65.  71.\n",
      "  74.  66.  63.  64.  64.  62.  65.  63.  62.  67.  70.  62.  65.  74.\n",
      "  77.  74.  75.  67.  77.  85.  79.  69.  68.  72.  69.  64.  63.  71.\n",
      "  69.  64.  66.  71.  68.  62.  70.  75.  80.  80.  74.  76.  76.  75.\n",
      "  70.  67.  70.  68.  80.  96.  97.  97.  83.  63.  62.]\n"
     ]
    },
    {
     "data": {
      "image/png": "[encoded data removed]",
      "text/plain": [
       "<Figure size 432x288 with 1 Axes>"
      ]
     },
     "metadata": {
      "needs_background": "light"
     },
     "output_type": "display_data"
    }
   ],
   "source": [
    "# plt.boxplot(y,showfliers=True)\n",
    "# plt.show()\n",
    "\n",
    "r=plt.boxplot(y,showfliers=True)\n",
    "\n",
    "print('異常値: ',r['fliers'][0].get_data()[1])#取得異常値"
   ]
  },
  {
   "cell_type": "code",
   "execution_count": 14,
   "metadata": {},
   "outputs": [],
   "source": [
    "from sklearn.ensemble import RandomForestRegressor\n",
    "\n",
    "clf = RandomForestRegressor(max_depth=5, random_state=0,\n",
    "                       n_estimators=100)"
   ]
  },
  {
   "cell_type": "code",
   "execution_count": 15,
   "metadata": {},
   "outputs": [
    {
     "data": {
      "text/plain": [
       "SelectFromModel(estimator=RandomForestRegressor(bootstrap=True, criterion='mse',\n",
       "                                                max_depth=5,\n",
       "                                                max_features='auto',\n",
       "                                                max_leaf_nodes=None,\n",
       "                                                min_impurity_decrease=0.0,\n",
       "                                                min_impurity_split=None,\n",
       "                                                min_samples_leaf=1,\n",
       "                                                min_samples_split=2,\n",
       "                                                min_weight_fraction_leaf=0.0,\n",
       "                                                n_estimators=100, n_jobs=None,\n",
       "                                                oob_score=False, random_state=0,\n",
       "                                                verbose=0, warm_start=False),\n",
       "                max_features=None, norm_order=1, prefit=False, threshold=0.01)"
      ]
     },
     "execution_count": 15,
     "metadata": {},
     "output_type": "execute_result"
    }
   ],
   "source": [
    "from sklearn.feature_selection import SelectFromModel\n",
    "sfm = SelectFromModel(clf, threshold=0.01)\n",
    "sfm.fit(x,y)"
   ]
  },
  {
   "cell_type": "code",
   "execution_count": 16,
   "metadata": {},
   "outputs": [
    {
     "name": "stdout",
     "output_type": "stream",
     "text": [
      "[ True  True  True  True  True]\n",
      "0\n",
      "1\n",
      "2\n",
      "3\n",
      "4\n"
     ]
    }
   ],
   "source": [
    "print(sfm.get_support())\n",
    "count = -1 \n",
    "for i in sfm.get_support() :\n",
    "    count += 1\n",
    "    if i == True:\n",
    "        print(count)\n"
   ]
  },
  {
   "cell_type": "code",
   "execution_count": 17,
   "metadata": {
    "scrolled": true
   },
   "outputs": [],
   "source": [
    "# ##隨機燊齡補植 但已經採用 R 補植好的資料\n",
    "# # y即目标年龄\n",
    "# y = df_nonull[:, 0]\n",
    "\n",
    "# # X即特征属性值\n",
    "# X = df_nonull[:, 1:]\n",
    "\n",
    "# # fit到RandomForestRegressor之中\n",
    "# rfr = RandomForestRegressor(random_state=0, n_estimators=2000, n_jobs=-1)\n",
    "# rfr.fit(X, y)\n",
    "\n",
    "#  # 用得到的模型进行未知年龄结果预测\n",
    "# predictedAges = rfr.predict(unknown_age[:, 1:])\n",
    "# #     print predictedAges\n",
    "# # 用得到的预测结果填补原缺失数据\n",
    "# df.loc[ (df.Age.isnull()), 'Age' ] = predictedAges \n"
   ]
  },
  {
   "cell_type": "code",
   "execution_count": 18,
   "metadata": {},
   "outputs": [],
   "source": [
    "from sklearn.model_selection import train_test_split\n",
    "X_train, X_test, y_train, y_test = train_test_split(\n",
    "x, y , test_size=0.2, random_state=0)\n",
    "y_train = np.array(y_train)"
   ]
  },
  {
   "cell_type": "code",
   "execution_count": 19,
   "metadata": {},
   "outputs": [],
   "source": [
    "from sklearn.preprocessing import MinMaxScaler\n",
    "\n",
    "sc = MinMaxScaler()\n",
    "sc.fit(x)\n",
    "X_train_std = sc.transform(X_train)\n",
    "X_test_std = sc.transform(X_test)"
   ]
  },
  {
   "cell_type": "code",
   "execution_count": 30,
   "metadata": {
    "scrolled": true
   },
   "outputs": [
    {
     "name": "stdout",
     "output_type": "stream",
     "text": [
      "第1次 26.53274412640304 [0.42077133 1.29722174 1.01546711 1.15122618 0.96656831 1.46955391\n",
      " 1.14884858 0.89585676 0.92765569 1.4270902 ]\n",
      "第2次 25.723399857012595 [0.10024835 2.19763293 0.35579356 1.61735122 1.36333952 1.83141442\n",
      " 2.20149563 2.249605   1.7510964  1.31099612]\n"
     ]
    },
    {
     "name": "stderr",
     "output_type": "stream",
     "text": [
      "C:\\Users\\LAB\\Anaconda3\\lib\\site-packages\\ipykernel_launcher.py:35: RuntimeWarning: divide by zero encountered in double_scalars\n"
     ]
    },
    {
     "name": "stdout",
     "output_type": "stream",
     "text": [
      "第3次 24.023712788982746 [0.38763922 4.22846006 1.71601799 3.06397483 2.02458655 3.98532214\n",
      " 2.92910004 3.95761695 2.00557428 3.21888406]\n",
      "第4次 22.411361419631973 [0.46955892 5.57243135 1.30990964 4.0517223  2.68728413 5.38081863\n",
      " 4.9051237  4.79582293 3.14732884 4.12684044]\n",
      "第5次 21.029762237492367 [-0.07206397  6.5524281   1.60206028  4.86260755  2.68151045  6.35283542\n",
      "  5.58868554  5.72882034  3.28589819  4.54427994]\n",
      "第6次 19.260398930552117 [-0.23459788  8.03544539  1.7033723   6.18359163  2.77468239  7.94975322\n",
      "  7.20330431  7.27325626  3.78982507  6.09404087]\n",
      "第7次 18.171944244703337 [-0.02484605  8.80115315  1.19384539  7.09465014  3.37607982  8.75711818\n",
      "  7.38441295  7.66587506  3.93788725  6.33671989]\n",
      "第8次 17.188142818998564 [0.06677873 9.56845607 1.0228994  7.5621658  3.07145839 9.79643276\n",
      " 8.21146809 8.71654648 3.94129685 6.7454088 ]\n",
      "第9次 16.340642603206 [ 0.01993918 10.49318079  0.41395436  8.22926691  2.79268833 10.84705826\n",
      "  8.88812563  9.45032129  3.89032696  7.1002518 ]\n",
      "第10次 15.333659754010103 [-0.04287596 11.57962265 -0.45564615  9.01386232  2.72300166 12.42686899\n",
      "  9.74435163 10.96954167  3.76426285  7.40200057]\n",
      "第11次 15.050259867815852 [ 0.16139959 11.30807993 -0.66421351  8.88155348  2.62225594 11.68427974\n",
      "  9.52725544 10.62796288  3.84276753  7.14521294]\n",
      "第12次 15.050259867815852 [ 0.17572019 10.85687993 -0.41391434  8.51371983  2.66323721 11.23307974\n",
      "  9.21024633 10.18413069  3.83380935  6.98370382]\n",
      "第13次 15.050259867815852 [0.2151256  9.61533113 0.27482376 7.50156683 2.7760037  9.99153094\n",
      " 8.3379452  8.96285559 3.80915949 6.53928571]\n",
      "第14次 15.050259867815852 [0.2282581  9.20156468 0.504357   7.16425028 2.81358498 9.57776449\n",
      " 8.04723657 8.55584569 3.80094453 6.39117611]\n",
      "第15次 15.050259867815852 [ 0.20492845  9.93661346  0.09659526  7.76348715  2.7468225  10.31281326\n",
      "  8.5636753   9.27889158  3.81553827  6.6542902 ]\n",
      "第16次 15.050259867815852 [ 0.17986475 10.72629705 -0.34147465  8.4072642   2.67509769 11.10249686\n",
      "  9.11849996 10.05568014  3.83121674  6.93696108]\n",
      "第17次 14.996572957059808 [ 0.25384229 10.00697385  0.10601732  7.68851334  2.58433615 10.3699327\n",
      "  8.49489527  9.2466052   3.61615671  6.50042006]\n",
      "第18次 14.996572957059808 [ 0.24894516 10.07521483  0.07421529  7.77521782  2.54940783 10.43760338\n",
      "  8.61469745  9.31358512  3.58265354  6.56582039]\n",
      "第19次 14.996572957059808 [ 0.23546992 10.26299076 -0.01329308  8.01379903  2.45329699 10.62381004\n",
      "  8.94435227  9.49789105  3.49046422  6.74577982]\n",
      "第20次 14.917451044153676 [ 0.15080881 11.15210984 -0.52682564  8.91693501  2.36052447 11.50846512\n",
      " 10.01279736 10.4713719   3.51799124  7.34635697]\n",
      "第21次 14.917451044153676 [ 0.18222131 10.80581191 -0.32601398  8.55804722  2.3334857  11.15188621\n",
      "  9.67886245 10.09617955  3.44482466  7.13200202]\n",
      "第22次 14.917451044153676 [ 0.26865781  9.8529179   0.22655135  7.57051017  2.25908421 10.17070243\n",
      "  8.75998728  9.06377795  3.24349514  6.54217015]\n",
      "第23次 14.917451044153676 [0.29746418 9.53535038 0.41070279 7.2413973  2.23428869 9.84370688\n",
      " 8.45375709 8.71971323 3.17639879 6.34559903]\n",
      "第24次 14.917451044153676 [ 0.24629016 10.09950345  0.08356102  7.8260605   2.27833749 10.42460868\n",
      "  8.99776959  9.33093812  3.29559427  6.69480415]\n",
      "第25次 14.917451044153676 [ 0.19131248 10.70558899 -0.26789659  8.45418063  2.32566035 11.04868785\n",
      "  9.58221755  9.98759423  3.42364934  7.06996503]\n",
      "第26次 14.917451044153676 [ 0.19794561 10.6324639  -0.22549273  8.37839704  2.31995078 10.9733918\n",
      "  9.51170307  9.90836773  3.40819931  7.02470134]\n",
      "第27次 14.917451044153676 [ 0.24606684 10.10196542  0.08213337  7.82861197  2.27852971 10.42714374\n",
      "  9.00014367  9.33360551  3.29611444  6.69632808]\n",
      "第28次 14.917451044153676 [ 0.27078798  9.82943444  0.24016897  7.54617296  2.25725063 10.14652178\n",
      "  8.73734219  9.03833508  3.2385335   6.52763413]\n",
      "第29次 14.917451044153676 [ 0.24771699 10.08377389  0.0926823   7.80975907  2.27710933 10.40841213\n",
      "  8.98260158  9.31389611  3.2922709   6.6850677 ]\n",
      "第30次 14.917451044153676 [ 0.21354378 10.46050649 -0.12577786  8.20018802  2.30652443 10.79632928\n",
      "  9.34588463  9.72206254  3.37186778  6.91826142]\n",
      "第31次 14.917451044153676 [ 0.21067649 10.49211608 -0.14410766  8.23294679  2.30899249 10.82887729\n",
      "  9.37636573  9.75630956  3.37854632  6.93782744]\n",
      "第32次 14.908882516453568 [ 2.40667770e-01  1.03732303e+01 -2.19160140e-03  8.03256248e+00\n",
      "  2.23323087e+00  1.07114942e+01  9.25880573e+00  9.59271765e+00\n",
      "  3.25273587e+00  6.75026262e+00]\n",
      "第33次 14.880687788761579 [ 2.72549444e-01  1.02265309e+01 -7.17606197e-04  7.97156371e+00\n",
      "  2.14244045e+00  1.05762608e+01  9.19409596e+00  9.47983227e+00\n",
      "  3.21954474e+00  6.72434977e+00]\n",
      "第34次 14.85377020540716 [ 0.4335309  10.04122259 -0.02857227  7.33208878  1.68522986 10.29682408\n",
      "  8.76953294  9.04823374  2.69705891  5.97763208]\n",
      "第35次 14.851483040643325 [ 0.36884907 10.02154578  0.02472351  7.45458797  1.91317252 10.28109322\n",
      "  8.81487323  9.09778133  2.90557556  6.20106909]\n",
      "第36次 14.83589866140226 [ 0.4540682   9.93612794  0.02517197  7.26664687  1.64033968 10.18376856\n",
      "  8.74648112  8.95103732  2.64693585  5.93442082]\n",
      "第37次 14.789487867548281 [ 0.47046343 10.05950326  0.04667925  7.20616298  1.41451155 10.42632967\n",
      "  9.01821659  9.09506827  2.56886155  5.93427901]\n",
      "第38次 14.685417090312285 [ 0.62466422 10.03485851  0.06891822  6.8101894   0.91547521 10.44965732\n",
      "  8.9569877   8.93603942  2.02643842  5.39652038]\n",
      "第39次 14.384833759817184 [ 8.34223510e-01  1.00436646e+01  1.13573043e-02  6.50821204e+00\n",
      " -6.12291483e-03  1.04310943e+01  9.42905631e+00  8.91034366e+00\n",
      "  1.36892969e+00  5.03571516e+00]\n",
      "第40次 14.049052967126636 [ 1.00825388e+00  9.95518333e+00  9.59335820e-03  6.07699922e+00\n",
      " -6.75452693e-01  1.03269714e+01  9.52703287e+00  8.72563504e+00\n",
      "  8.02546698e-01  4.55571124e+00]\n",
      "第41次 14.012404736165754 [ 9.20758136e-01  1.03436408e+01 -2.22171844e-03  6.55580412e+00\n",
      " -5.10020348e-01  1.08664544e+01  9.98745982e+00  9.22512571e+00\n",
      "  1.04296279e+00  4.99358248e+00]\n",
      "第42次 14.012404736165754 [ 8.83652947e-01  1.03165036e+01  7.98028294e-03  6.58675912e+00\n",
      " -3.42054547e-01  1.08346564e+01  9.87401658e+00  9.19937393e+00\n",
      "  1.16438413e+00  5.04449689e+00]\n",
      "第43次 13.993495925397633 [ 0.69396875 10.4879189  -0.01190863  7.19383498  0.39615332 10.91366817\n",
      "  9.89099188  9.51092319  1.81935755  5.69379487]\n",
      "第44次 13.993495925397633 [ 7.41217619e-01  1.04236284e+01 -3.89285308e-03  7.03902694e+00\n",
      "  2.24083059e-01  1.08592096e+01  9.86598008e+00  9.41563250e+00\n",
      "  1.66798963e+00  5.53463314e+00]\n",
      "第45次 13.993495925397633 [ 0.87123043 10.24672284  0.01816384  6.61304792 -0.24939573 10.70935823\n",
      "  9.79715614  9.15342496  1.25147665  5.09667427]\n",
      "第46次 13.993495925397633 [ 0.91455932 10.18776617  0.0255146   6.47108344 -0.40719028 10.6594178\n",
      "  9.77421944  9.06604001  1.11266689  4.9507173 ]\n",
      "第47次 13.993495925397633 [ 0.83758631 10.29250165  0.01245611  6.72328082 -0.12687105 10.74813608\n",
      "  9.81496609  9.22127783  1.35925998  5.21000726]\n",
      "第48次 13.993495925397633 [ 7.54892028e-01  1.04050219e+01 -1.57298722e-03  6.99422357e+00\n",
      "  1.74283789e-01  1.08434486e+01  9.85874136e+00  9.38805419e+00\n",
      "  1.62418188e+00  5.48856976e+00]\n",
      "第49次 13.993495925397633 [7.64869211e-01 1.03914462e+01 1.19643508e-04 6.96153394e+00\n",
      " 1.37949027e-01 1.08319490e+01 9.85345981e+00 9.36793238e+00\n",
      " 1.59221867e+00 5.45496080e+00]\n",
      "第50次 13.987414443764784 [ 8.12610285e-01  1.04399884e+01 -1.55632240e-03  6.95948705e+00\n",
      " -7.70232658e-02  1.08547862e+01  1.00420159e+01  9.43004193e+00\n",
      "  1.43260829e+00  5.41016006e+00]\n",
      "第51次 13.987414443764784 [ 8.09404483e-01  1.04229161e+01  1.14441853e-05  6.94186885e+00\n",
      " -5.74148024e-02  1.08430095e+01  1.00044594e+01  9.40711044e+00\n",
      "  1.44425295e+00  5.39992448e+00]\n",
      "第52次 13.985201368596327 [ 8.06839840e-01  1.04092583e+01  1.26565746e-03  6.92777428e+00\n",
      " -4.17280318e-02  1.08335881e+01  9.97441420e+00  9.38876525e+00\n",
      "  1.45356868e+00  5.39173602e+00]\n",
      "第53次 13.985201368596327 [ 8.07804146e-01  1.04143937e+01  7.94073266e-04  6.93307384e+00\n",
      " -4.76262576e-02  1.08371305e+01  9.98571120e+00  9.39566304e+00\n",
      "  1.45006597e+00  5.39481488e+00]\n",
      "第54次 13.985201368596327 [ 8.10457586e-01  1.04285244e+01 -5.03565885e-04  6.94765641e+00\n",
      " -6.38561670e-02  1.08468781e+01  1.00167967e+01  9.41464342e+00\n",
      "  1.44042769e+00  5.40328686e+00]\n",
      "第55次 13.985201368596327 [ 8.11341889e-01  1.04332336e+01 -9.36025363e-04  6.95251629e+00\n",
      " -6.92650498e-02  1.08501267e+01  1.00271565e+01  9.42096894e+00\n",
      "  1.43721557e+00  5.40611029e+00]\n"
     ]
    },
    {
     "name": "stdout",
     "output_type": "stream",
     "text": [
      "第56次 13.984176478939137 [ 7.73891973e-01  1.04157068e+01 -2.89342934e-03  6.98965506e+00\n",
      "  1.06341266e-01  1.08309008e+01  9.89507764e+00  9.39891906e+00\n",
      "  1.55706471e+00  5.44818152e+00]\n",
      "第57次 13.984173426919073 [ 8.20075567e-01  1.03422997e+01  4.19527640e-03  6.82185908e+00\n",
      " -6.98500624e-02  1.07685029e+01  9.86708888e+00  9.29010411e+00\n",
      "  1.40512801e+00  5.28953303e+00]\n",
      "第58次 13.984064502732396 [ 8.69465403e-01  1.03438968e+01  5.62681895e-03  6.73448025e+00\n",
      " -2.76711253e-01  1.07883320e+01  9.96218282e+00  9.28060378e+00\n",
      "  1.24786983e+00  5.18803898e+00]\n",
      "第59次 13.984064502732396 [ 8.48214321e-01  1.03622177e+01  3.60409095e-03  6.79436917e+00\n",
      " -1.93213234e-01  1.07992327e+01  9.95376622e+00  9.31057089e+00\n",
      "  1.31729923e+00  5.24990862e+00]\n",
      "第60次 13.984064502732396 [ 7.89738578e-01  1.04126308e+01 -1.96176792e-03  6.95916310e+00\n",
      "  3.65448905e-02  1.08292277e+01  9.93060661e+00  9.39303019e+00\n",
      "  1.50834530e+00  5.42015282e+00]\n"
     ]
    },
    {
     "data": {
      "image/png": "[encoded data removed]",
      "text/plain": [
       "<Figure size 432x288 with 1 Axes>"
      ]
     },
     "metadata": {
      "needs_background": "light"
     },
     "output_type": "display_data"
    }
   ],
   "source": [
    "# coding: utf-8\n",
    "import numpy as np  \n",
    "import random   \n",
    "import matplotlib.pyplot as plt  \n",
    "max_iter=60 # 跌帶次數\n",
    "pN = 100  # 人口\n",
    "#----------------------PSO参数设置---------------------------------  \n",
    "class PSO():  \n",
    "    def __init__(self,pN,dim,max_iter):  \n",
    "        self.w = 0.8    \n",
    "        self.c1 = 1.96     \n",
    "        self.c2 = 1.96     \n",
    "        self.r1= 0.6  \n",
    "        self.r2=0.3\n",
    "        self.Vbest = 1.5             # 最高速度\n",
    "        self.pN = pN                #粒子数量  \n",
    "        self.dim = dim              #搜索维度  \n",
    "        self.max_iter = max_iter    #迭代次数  \n",
    "        self.X = np.zeros((self.pN,self.dim))       #所有粒子的位置和速度  \n",
    "        self.V = np.zeros((self.pN,self.dim))  \n",
    "        self.pbest = np.zeros((self.pN,self.dim))   #個體經歷的最佳位置和全局最佳位置  \n",
    "        self.gbest = np.zeros((1,self.dim))  \n",
    "        self.p_fit = np.zeros(self.pN)              #每個個體的歷史最佳值  \n",
    "        self.fit = 1e10             #全局最佳值  \n",
    "          \n",
    "#---------------------目标函数Sphere函数-----------------------------  \n",
    "    def function(self,x): \n",
    "        col = X_train_std.shape[1]\n",
    "        row = X_train_std.shape[0]\n",
    "        y = 0.0  \n",
    "        length = len(x) // 2 \n",
    "        for i in range(row):  \n",
    "            temp = 0.0\n",
    "            for j in range(length):\n",
    "                temp += (X_train_std[i][j] ** x[j * 2]) *  x[j * 2 + 1] \n",
    "            y += (temp - y_train[i]) ** 2\n",
    "        y =  (y / row) ** 0.5\n",
    "        return y\n",
    "#---------------------初始化种群----------------------------------  \n",
    "    def init_Population(self):  \n",
    "        for i in range(self.pN):  \n",
    "            for j in range(self.dim):  \n",
    "                self.X[i][j] = random.uniform(0,1)  \n",
    "                self.V[i][j] = random.uniform(0,1)  \n",
    "            self.pbest[i] = self.X[i]  \n",
    "            tmp = self.function(self.X[i])  \n",
    "            self.p_fit[i] = tmp  \n",
    "            if(tmp < self.fit):  \n",
    "                self.fit = tmp  \n",
    "                self.gbest = self.X[i]  \n",
    "      \n",
    "#----------------------更新粒子位置----------------------------------  \n",
    "    def iterator(self):  \n",
    "        fitness = []  \n",
    "        for t in range(self.max_iter):  \n",
    "            for i in range(self.pN):         #更新gbest\\pbest  \n",
    "               temp = self.function(self.X[i])  \n",
    "               if(temp<self.p_fit[i]):      #更新个体最优  \n",
    "                   self.p_fit[i] = temp  \n",
    "                   self.pbest[i] = self.X[i]  \n",
    "                   if(self.p_fit[i] < self.fit):  #更新全局最优  \n",
    "                       self.gbest = self.X[i]  \n",
    "                       self.fit = self.p_fit[i]  \n",
    "            for i in range(self.pN): \n",
    "                temp = self.w*self.V[i] + self.c1*self.r1*(self.pbest[i] - self.X[i]) + \\\n",
    "                            self.c2*self.r2*(self.gbest - self.X[i])  \n",
    "                for z in range(self.dim):\n",
    "                    if temp[z]  >= self.Vbest:\n",
    "                        temp[z] = self.Vbest\n",
    "                self.V[i] = temp\n",
    "                self.X[i] = self.X[i] + self.V[i]  \n",
    "            fitness.append(self.fit)  \n",
    "            print(\"第%d次\" %  (t + 1) ,self.fit,self.gbest)                   #输出最优值  \n",
    "        return fitness  \n",
    " \n",
    "#----------------------程序执行-----------------------  \n",
    "my_pso = PSO(pN=pN,dim=10,max_iter=max_iter)  \n",
    "my_pso.init_Population()  \n",
    "fitness = my_pso.iterator()\n",
    "#-------------------画图--------------------  \n",
    "plt.figure(1)  \n",
    "plt.title(\"Figure1\")  \n",
    "plt.xlabel(\"iterators\", size=14)  \n",
    "plt.ylabel(\"fitness\", size=14)  \n",
    "t = np.array([t for t in range(0,max_iter)])  \n",
    "fitness = np.array(fitness)  \n",
    "plt.plot(t,fitness, color='b',linewidth=3)  \n",
    "plt.show()"
   ]
  },
  {
   "cell_type": "code",
   "execution_count": 33,
   "metadata": {},
   "outputs": [
    {
     "name": "stdout",
     "output_type": "stream",
     "text": [
      "RMSE 14.810910540601661\n"
     ]
    }
   ],
   "source": [
    "y_test = np.array(y_test)\n",
    "x =[ 7.89738578e-01  ,1.04126308e+01, -1.96176792e-03 , 6.95916310e+00,\n",
    "  3.65448905e-02 , 1.08292277e+01,  9.93060661e+00 , 9.39303019e+00,\n",
    "  1.50834530e+00 , 5.42015282e+00]\n",
    "col = X_test_std.shape[1]\n",
    "row = X_test_std.shape[0]\n",
    "y = 0.0  \n",
    "length = len(x)  // 2 \n",
    "\n",
    "for i in range(row):  \n",
    "    temp = 0.0\n",
    "    for j in range(length):\n",
    "         temp += (X_train_std[i][j] ** x[j * 2]) *  x[j * 2 + 1] \n",
    "    y += (temp - y_test[i]) ** 2\n",
    "y =  (y / row) ** 0.5\n",
    "print(\"RMSE\" , y)\n",
    "    "
   ]
  }
 ],
 "metadata": {
  "kernelspec": {
   "display_name": "Python 3",
   "language": "python",
   "name": "python3"
  },
  "language_info": {
   "codemirror_mode": {
    "name": "ipython",
    "version": 3
   },
   "file_extension": ".py",
   "mimetype": "text/x-python",
   "name": "python",
   "nbconvert_exporter": "python",
   "pygments_lexer": "ipython3",
   "version": "3.7.1"
  }
 },
 "nbformat": 4,
 "nbformat_minor": 2
}
