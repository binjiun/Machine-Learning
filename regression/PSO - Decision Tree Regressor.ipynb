{
 "cells": [
  {
   "cell_type": "code",
   "execution_count": 2,
   "metadata": {},
   "outputs": [],
   "source": [
    "from sklearn import datasets\n",
    "from sklearn.model_selection import train_test_split\n",
    "from sklearn.cluster import KMeans\n",
    "import pandas as pd\n",
    "import seaborn as sns\n",
    "import matplotlib.pyplot as plt\n",
    "import numpy as np\n",
    "from matplotlib.font_manager import FontProperties\n",
    "myfont=FontProperties(fname=r'C:\\Windows\\Fonts\\kaiu.ttf',size=14)\n",
    "sns.set(font=myfont.get_name())"
   ]
  },
  {
   "cell_type": "code",
   "execution_count": 3,
   "metadata": {},
   "outputs": [
    {
     "data": {
      "text/html": [
       "<div>\n",
       "<style scoped>\n",
       "    .dataframe tbody tr th:only-of-type {\n",
       "        vertical-align: middle;\n",
       "    }\n",
       "\n",
       "    .dataframe tbody tr th {\n",
       "        vertical-align: top;\n",
       "    }\n",
       "\n",
       "    .dataframe thead th {\n",
       "        text-align: right;\n",
       "    }\n",
       "</style>\n",
       "<table border=\"1\" class=\"dataframe\">\n",
       "  <thead>\n",
       "    <tr style=\"text-align: right;\">\n",
       "      <th></th>\n",
       "      <th>Air Pressure</th>\n",
       "      <th>Air Temperature</th>\n",
       "      <th>Relative Humidity</th>\n",
       "      <th>Wind Speed</th>\n",
       "      <th>Precipitation</th>\n",
       "    </tr>\n",
       "  </thead>\n",
       "  <tbody>\n",
       "    <tr>\n",
       "      <th>0</th>\n",
       "      <td>970.3</td>\n",
       "      <td>15.6</td>\n",
       "      <td>94.0</td>\n",
       "      <td>0.3</td>\n",
       "      <td>0.0</td>\n",
       "    </tr>\n",
       "    <tr>\n",
       "      <th>1</th>\n",
       "      <td>970.0</td>\n",
       "      <td>15.2</td>\n",
       "      <td>94.0</td>\n",
       "      <td>0.0</td>\n",
       "      <td>0.0</td>\n",
       "    </tr>\n",
       "    <tr>\n",
       "      <th>2</th>\n",
       "      <td>969.8</td>\n",
       "      <td>14.7</td>\n",
       "      <td>98.0</td>\n",
       "      <td>0.0</td>\n",
       "      <td>0.0</td>\n",
       "    </tr>\n",
       "  </tbody>\n",
       "</table>\n",
       "</div>"
      ],
      "text/plain": [
       "   Air Pressure  Air Temperature  Relative Humidity  Wind Speed  Precipitation\n",
       "0         970.3             15.6               94.0         0.3            0.0\n",
       "1         970.0             15.2               94.0         0.0            0.0\n",
       "2         969.8             14.7               98.0         0.0            0.0"
      ]
     },
     "execution_count": 3,
     "metadata": {},
     "output_type": "execute_result"
    }
   ],
   "source": [
    "df = pd.read_csv('imputeData2017.csv' , encoding = \"big5\")\n",
    "df_nonull = df.dropna()\n",
    "x = df_nonull.drop(['PM2.5','Daye','Time'], axis=1)\n",
    "y = df_nonull['PM2.5']\n",
    "x.head(3)"
   ]
  },
  {
   "cell_type": "code",
   "execution_count": 4,
   "metadata": {},
   "outputs": [
    {
     "name": "stdout",
     "output_type": "stream",
     "text": [
      "<class 'pandas.core.frame.DataFrame'>\n",
      "RangeIndex: 8760 entries, 0 to 8759\n",
      "Data columns (total 8 columns):\n",
      "Daye                 8760 non-null object\n",
      "Time                 8760 non-null int64\n",
      "Air Pressure         8760 non-null float64\n",
      "Air Temperature      8760 non-null float64\n",
      "Relative Humidity    8760 non-null float64\n",
      "Wind Speed           8760 non-null float64\n",
      "Precipitation        8760 non-null float64\n",
      "PM2.5                8760 non-null float64\n",
      "dtypes: float64(6), int64(1), object(1)\n",
      "memory usage: 547.6+ KB\n"
     ]
    }
   ],
   "source": [
    "df.info()"
   ]
  },
  {
   "cell_type": "code",
   "execution_count": 5,
   "metadata": {
    "scrolled": true
   },
   "outputs": [
    {
     "data": {
      "text/html": [
       "<div>\n",
       "<style scoped>\n",
       "    .dataframe tbody tr th:only-of-type {\n",
       "        vertical-align: middle;\n",
       "    }\n",
       "\n",
       "    .dataframe tbody tr th {\n",
       "        vertical-align: top;\n",
       "    }\n",
       "\n",
       "    .dataframe thead th {\n",
       "        text-align: right;\n",
       "    }\n",
       "</style>\n",
       "<table border=\"1\" class=\"dataframe\">\n",
       "  <thead>\n",
       "    <tr style=\"text-align: right;\">\n",
       "      <th></th>\n",
       "      <th>Time</th>\n",
       "      <th>Air Pressure</th>\n",
       "      <th>Air Temperature</th>\n",
       "      <th>Relative Humidity</th>\n",
       "      <th>Wind Speed</th>\n",
       "      <th>Precipitation</th>\n",
       "      <th>PM2.5</th>\n",
       "    </tr>\n",
       "  </thead>\n",
       "  <tbody>\n",
       "    <tr>\n",
       "      <th>count</th>\n",
       "      <td>8760.000000</td>\n",
       "      <td>8760.000000</td>\n",
       "      <td>8760.000000</td>\n",
       "      <td>8760.000000</td>\n",
       "      <td>8760.000000</td>\n",
       "      <td>8760.000000</td>\n",
       "      <td>8760.000000</td>\n",
       "    </tr>\n",
       "    <tr>\n",
       "      <th>mean</th>\n",
       "      <td>12.500000</td>\n",
       "      <td>962.873502</td>\n",
       "      <td>22.525309</td>\n",
       "      <td>83.057954</td>\n",
       "      <td>0.890812</td>\n",
       "      <td>0.320988</td>\n",
       "      <td>24.625568</td>\n",
       "    </tr>\n",
       "    <tr>\n",
       "      <th>std</th>\n",
       "      <td>6.922582</td>\n",
       "      <td>4.397354</td>\n",
       "      <td>4.956583</td>\n",
       "      <td>16.285166</td>\n",
       "      <td>0.795717</td>\n",
       "      <td>2.220969</td>\n",
       "      <td>14.448751</td>\n",
       "    </tr>\n",
       "    <tr>\n",
       "      <th>min</th>\n",
       "      <td>1.000000</td>\n",
       "      <td>940.400000</td>\n",
       "      <td>9.100000</td>\n",
       "      <td>24.000000</td>\n",
       "      <td>0.000000</td>\n",
       "      <td>0.000000</td>\n",
       "      <td>2.000000</td>\n",
       "    </tr>\n",
       "    <tr>\n",
       "      <th>25%</th>\n",
       "      <td>6.750000</td>\n",
       "      <td>960.100000</td>\n",
       "      <td>19.100000</td>\n",
       "      <td>70.000000</td>\n",
       "      <td>0.400000</td>\n",
       "      <td>0.000000</td>\n",
       "      <td>14.000000</td>\n",
       "    </tr>\n",
       "    <tr>\n",
       "      <th>50%</th>\n",
       "      <td>12.500000</td>\n",
       "      <td>962.700000</td>\n",
       "      <td>22.900000</td>\n",
       "      <td>89.000000</td>\n",
       "      <td>0.600000</td>\n",
       "      <td>0.000000</td>\n",
       "      <td>22.000000</td>\n",
       "    </tr>\n",
       "    <tr>\n",
       "      <th>75%</th>\n",
       "      <td>18.250000</td>\n",
       "      <td>965.700000</td>\n",
       "      <td>25.800000</td>\n",
       "      <td>98.000000</td>\n",
       "      <td>1.200000</td>\n",
       "      <td>0.000000</td>\n",
       "      <td>33.000000</td>\n",
       "    </tr>\n",
       "    <tr>\n",
       "      <th>max</th>\n",
       "      <td>24.000000</td>\n",
       "      <td>977.300000</td>\n",
       "      <td>36.200000</td>\n",
       "      <td>99.000000</td>\n",
       "      <td>5.700000</td>\n",
       "      <td>68.500000</td>\n",
       "      <td>127.000000</td>\n",
       "    </tr>\n",
       "  </tbody>\n",
       "</table>\n",
       "</div>"
      ],
      "text/plain": [
       "              Time  Air Pressure  Air Temperature  Relative Humidity  \\\n",
       "count  8760.000000   8760.000000      8760.000000        8760.000000   \n",
       "mean     12.500000    962.873502        22.525309          83.057954   \n",
       "std       6.922582      4.397354         4.956583          16.285166   \n",
       "min       1.000000    940.400000         9.100000          24.000000   \n",
       "25%       6.750000    960.100000        19.100000          70.000000   \n",
       "50%      12.500000    962.700000        22.900000          89.000000   \n",
       "75%      18.250000    965.700000        25.800000          98.000000   \n",
       "max      24.000000    977.300000        36.200000          99.000000   \n",
       "\n",
       "        Wind Speed  Precipitation        PM2.5  \n",
       "count  8760.000000    8760.000000  8760.000000  \n",
       "mean      0.890812       0.320988    24.625568  \n",
       "std       0.795717       2.220969    14.448751  \n",
       "min       0.000000       0.000000     2.000000  \n",
       "25%       0.400000       0.000000    14.000000  \n",
       "50%       0.600000       0.000000    22.000000  \n",
       "75%       1.200000       0.000000    33.000000  \n",
       "max       5.700000      68.500000   127.000000  "
      ]
     },
     "execution_count": 5,
     "metadata": {},
     "output_type": "execute_result"
    }
   ],
   "source": [
    "df.describe()"
   ]
  },
  {
   "cell_type": "code",
   "execution_count": 6,
   "metadata": {
    "scrolled": true
   },
   "outputs": [
    {
     "data": {
      "text/html": [
       "<div>\n",
       "<style scoped>\n",
       "    .dataframe tbody tr th:only-of-type {\n",
       "        vertical-align: middle;\n",
       "    }\n",
       "\n",
       "    .dataframe tbody tr th {\n",
       "        vertical-align: top;\n",
       "    }\n",
       "\n",
       "    .dataframe thead th {\n",
       "        text-align: right;\n",
       "    }\n",
       "</style>\n",
       "<table border=\"1\" class=\"dataframe\">\n",
       "  <thead>\n",
       "    <tr style=\"text-align: right;\">\n",
       "      <th></th>\n",
       "      <th>Daye</th>\n",
       "      <th>Time</th>\n",
       "      <th>Air Pressure</th>\n",
       "      <th>Air Temperature</th>\n",
       "      <th>Relative Humidity</th>\n",
       "      <th>Wind Speed</th>\n",
       "      <th>Precipitation</th>\n",
       "      <th>PM2.5</th>\n",
       "    </tr>\n",
       "  </thead>\n",
       "  <tbody>\n",
       "    <tr>\n",
       "      <th>0</th>\n",
       "      <td>False</td>\n",
       "      <td>False</td>\n",
       "      <td>False</td>\n",
       "      <td>False</td>\n",
       "      <td>False</td>\n",
       "      <td>False</td>\n",
       "      <td>False</td>\n",
       "      <td>False</td>\n",
       "    </tr>\n",
       "    <tr>\n",
       "      <th>1</th>\n",
       "      <td>False</td>\n",
       "      <td>False</td>\n",
       "      <td>False</td>\n",
       "      <td>False</td>\n",
       "      <td>False</td>\n",
       "      <td>False</td>\n",
       "      <td>False</td>\n",
       "      <td>False</td>\n",
       "    </tr>\n",
       "    <tr>\n",
       "      <th>2</th>\n",
       "      <td>False</td>\n",
       "      <td>False</td>\n",
       "      <td>False</td>\n",
       "      <td>False</td>\n",
       "      <td>False</td>\n",
       "      <td>False</td>\n",
       "      <td>False</td>\n",
       "      <td>False</td>\n",
       "    </tr>\n",
       "    <tr>\n",
       "      <th>3</th>\n",
       "      <td>False</td>\n",
       "      <td>False</td>\n",
       "      <td>False</td>\n",
       "      <td>False</td>\n",
       "      <td>False</td>\n",
       "      <td>False</td>\n",
       "      <td>False</td>\n",
       "      <td>False</td>\n",
       "    </tr>\n",
       "    <tr>\n",
       "      <th>4</th>\n",
       "      <td>False</td>\n",
       "      <td>False</td>\n",
       "      <td>False</td>\n",
       "      <td>False</td>\n",
       "      <td>False</td>\n",
       "      <td>False</td>\n",
       "      <td>False</td>\n",
       "      <td>False</td>\n",
       "    </tr>\n",
       "    <tr>\n",
       "      <th>...</th>\n",
       "      <td>...</td>\n",
       "      <td>...</td>\n",
       "      <td>...</td>\n",
       "      <td>...</td>\n",
       "      <td>...</td>\n",
       "      <td>...</td>\n",
       "      <td>...</td>\n",
       "      <td>...</td>\n",
       "    </tr>\n",
       "    <tr>\n",
       "      <th>8755</th>\n",
       "      <td>False</td>\n",
       "      <td>False</td>\n",
       "      <td>False</td>\n",
       "      <td>False</td>\n",
       "      <td>False</td>\n",
       "      <td>False</td>\n",
       "      <td>False</td>\n",
       "      <td>False</td>\n",
       "    </tr>\n",
       "    <tr>\n",
       "      <th>8756</th>\n",
       "      <td>False</td>\n",
       "      <td>False</td>\n",
       "      <td>False</td>\n",
       "      <td>False</td>\n",
       "      <td>False</td>\n",
       "      <td>False</td>\n",
       "      <td>False</td>\n",
       "      <td>False</td>\n",
       "    </tr>\n",
       "    <tr>\n",
       "      <th>8757</th>\n",
       "      <td>False</td>\n",
       "      <td>False</td>\n",
       "      <td>False</td>\n",
       "      <td>False</td>\n",
       "      <td>False</td>\n",
       "      <td>False</td>\n",
       "      <td>False</td>\n",
       "      <td>False</td>\n",
       "    </tr>\n",
       "    <tr>\n",
       "      <th>8758</th>\n",
       "      <td>False</td>\n",
       "      <td>False</td>\n",
       "      <td>False</td>\n",
       "      <td>False</td>\n",
       "      <td>False</td>\n",
       "      <td>False</td>\n",
       "      <td>False</td>\n",
       "      <td>False</td>\n",
       "    </tr>\n",
       "    <tr>\n",
       "      <th>8759</th>\n",
       "      <td>False</td>\n",
       "      <td>False</td>\n",
       "      <td>False</td>\n",
       "      <td>False</td>\n",
       "      <td>False</td>\n",
       "      <td>False</td>\n",
       "      <td>False</td>\n",
       "      <td>False</td>\n",
       "    </tr>\n",
       "  </tbody>\n",
       "</table>\n",
       "<p>8760 rows × 8 columns</p>\n",
       "</div>"
      ],
      "text/plain": [
       "       Daye   Time  Air Pressure  Air Temperature  Relative Humidity  \\\n",
       "0     False  False         False            False              False   \n",
       "1     False  False         False            False              False   \n",
       "2     False  False         False            False              False   \n",
       "3     False  False         False            False              False   \n",
       "4     False  False         False            False              False   \n",
       "...     ...    ...           ...              ...                ...   \n",
       "8755  False  False         False            False              False   \n",
       "8756  False  False         False            False              False   \n",
       "8757  False  False         False            False              False   \n",
       "8758  False  False         False            False              False   \n",
       "8759  False  False         False            False              False   \n",
       "\n",
       "      Wind Speed  Precipitation  PM2.5  \n",
       "0          False          False  False  \n",
       "1          False          False  False  \n",
       "2          False          False  False  \n",
       "3          False          False  False  \n",
       "4          False          False  False  \n",
       "...          ...            ...    ...  \n",
       "8755       False          False  False  \n",
       "8756       False          False  False  \n",
       "8757       False          False  False  \n",
       "8758       False          False  False  \n",
       "8759       False          False  False  \n",
       "\n",
       "[8760 rows x 8 columns]"
      ]
     },
     "execution_count": 6,
     "metadata": {},
     "output_type": "execute_result"
    }
   ],
   "source": [
    "df.isnull()"
   ]
  },
  {
   "cell_type": "code",
   "execution_count": 7,
   "metadata": {
    "scrolled": false
   },
   "outputs": [
    {
     "data": {
      "text/plain": [
       "Text(0.5, 115.20937499999997, '特徵')"
      ]
     },
     "execution_count": 7,
     "metadata": {},
     "output_type": "execute_result"
    },
    {
     "data": {
      "image/png": "[encoded data removed]",
      "text/plain": [
       "<Figure size 720x720 with 2 Axes>"
      ]
     },
     "metadata": {},
     "output_type": "display_data"
    }
   ],
   "source": [
    "a = df.corr()\n",
    "fig, ax = plt.subplots(figsize = (10,10))\n",
    "#二維的陣列的熱力圖，橫軸和數軸的ticklabels要加上去的話，既可以通過將array轉換成有column\n",
    "#和index的DataFrame直接繪圖生成，也可以後續再加上去。後面加上去的話，更靈活，包括可設定labels大小方向等。\n",
    "sns.heatmap(pd.DataFrame(np.round(a,2), columns =df.columns, index = df.columns), \n",
    "                annot=True, vmax=1,vmin = 0, xticklabels= True, yticklabels= True, square=True, cmap=\"YlGnBu\")\n",
    "#sns.heatmap(np.round(a,2), annot=True, vmax=1,vmin = 0, xticklabels= True, yticklabels= True, \n",
    "#            square=True, cmap=\"YlGnBu\")\n",
    "ax.set_title('二維陣列熱力圖', fontsize = 18)\n",
    "ax.set_ylabel('特徵', fontsize = 18)\n",
    "ax.set_xlabel('特徵', fontsize = 18) #橫變成y軸，跟矩陣原始的佈局情況是一樣的"
   ]
  },
  {
   "cell_type": "code",
   "execution_count": 8,
   "metadata": {
    "scrolled": true
   },
   "outputs": [
    {
     "data": {
      "text/plain": [
       "<matplotlib.axes._subplots.AxesSubplot at 0x27d6b255080>"
      ]
     },
     "execution_count": 8,
     "metadata": {},
     "output_type": "execute_result"
    },
    {
     "data": {
      "image/png": "[encoded data removed]",
      "text/plain": [
       "<Figure size 432x288 with 1 Axes>"
      ]
     },
     "metadata": {},
     "output_type": "display_data"
    }
   ],
   "source": [
    "sns.countplot(y)"
   ]
  },
  {
   "cell_type": "code",
   "execution_count": 9,
   "metadata": {},
   "outputs": [
    {
     "data": {
      "image/png": "[encoded data removed]",
      "text/plain": [
       "<Figure size 432x288 with 1 Axes>"
      ]
     },
     "metadata": {},
     "output_type": "display_data"
    },
    {
     "name": "stdout",
     "output_type": "stream",
     "text": [
      "標準差 : 4.397354270733905\n"
     ]
    }
   ],
   "source": [
    "df2=df['Air Pressure']\n",
    "\n",
    "\n",
    "df2.plot(kind='kde',title='Air Pressure')\n",
    "plt.show()\n",
    "\n",
    "print('標準差 :',df2.std())"
   ]
  },
  {
   "cell_type": "code",
   "execution_count": 10,
   "metadata": {},
   "outputs": [
    {
     "data": {
      "image/png": "[encoded data removed]",
      "text/plain": [
       "<Figure size 432x288 with 1 Axes>"
      ]
     },
     "metadata": {},
     "output_type": "display_data"
    },
    {
     "name": "stdout",
     "output_type": "stream",
     "text": [
      "標準差 : 4.956583399183954\n"
     ]
    }
   ],
   "source": [
    "df2=df['Air Temperature']\n",
    "\n",
    "\n",
    "df2.plot(kind='kde',title='\tAir Temperature')\n",
    "plt.show()\n",
    "\n",
    "print('標準差 :',df2.std())"
   ]
  },
  {
   "cell_type": "code",
   "execution_count": 11,
   "metadata": {},
   "outputs": [
    {
     "data": {
      "image/png": "[encoded data removed]",
      "text/plain": [
       "<Figure size 432x288 with 1 Axes>"
      ]
     },
     "metadata": {},
     "output_type": "display_data"
    },
    {
     "name": "stdout",
     "output_type": "stream",
     "text": [
      "標準差 : 0.7957173370243045\n"
     ]
    }
   ],
   "source": [
    "df2=df['Wind Speed']\n",
    "\n",
    "\n",
    "df2.plot(kind='kde',title='Wind Speed')\n",
    "plt.show()\n",
    "\n",
    "print('標準差 :',df2.std())"
   ]
  },
  {
   "cell_type": "code",
   "execution_count": 12,
   "metadata": {},
   "outputs": [
    {
     "data": {
      "image/png": "[encoded data removed]",
      "text/plain": [
       "<Figure size 432x288 with 1 Axes>"
      ]
     },
     "metadata": {},
     "output_type": "display_data"
    },
    {
     "name": "stdout",
     "output_type": "stream",
     "text": [
      "標準差 : 2.2209687300026455\n"
     ]
    }
   ],
   "source": [
    "df2=df['Precipitation']\n",
    "\n",
    "\n",
    "df2.plot(kind='kde',title='Precipitation')\n",
    "plt.show()\n",
    "\n",
    "print('標準差 :',df2.std())"
   ]
  },
  {
   "cell_type": "code",
   "execution_count": 13,
   "metadata": {
    "scrolled": true
   },
   "outputs": [
    {
     "data": {
      "image/png": "[encoded data removed]",
      "text/plain": [
       "<Figure size 432x288 with 1 Axes>"
      ]
     },
     "metadata": {},
     "output_type": "display_data"
    },
    {
     "name": "stdout",
     "output_type": "stream",
     "text": [
      "標準差 : 14.448751272619385\n"
     ]
    }
   ],
   "source": [
    "df2=df['PM2.5']\n",
    "\n",
    "\n",
    "df2.plot(kind='kde',title='PM2.5')\n",
    "plt.show()\n",
    "\n",
    "print('標準差 :',df2.std())"
   ]
  },
  {
   "cell_type": "code",
   "execution_count": 14,
   "metadata": {},
   "outputs": [
    {
     "name": "stdout",
     "output_type": "stream",
     "text": [
      "異常値:  [ 63.  63.  63.  64.  62.  63.  62.  62.  65.  67.  68.  64.  66.  70.\n",
      "  69.  75.  80.  80.  80.  76.  69.  66.  64.  65.  63.  64.  64.  65.\n",
      "  62.  70.  77.  70.  67.  71.  73.  72.  67.  63.  64.  63.  96. 123.\n",
      " 126. 127. 127. 124. 116. 101.  95.  99.  98.  90.  89.  84.  86. 102.\n",
      "  91.  76.  91.  94.  87.  75.  69.  65.  69.  71.  71.  64.  62.  62.\n",
      "  65.  65.  64.  66.  63.  64.  62.  65.  68.  67.  70.  67.  65.  71.\n",
      "  74.  66.  63.  64.  64.  62.  65.  63.  62.  67.  70.  62.  65.  74.\n",
      "  77.  74.  75.  67.  77.  85.  79.  69.  68.  72.  69.  64.  63.  71.\n",
      "  69.  64.  66.  71.  68.  62.  70.  75.  80.  80.  74.  76.  76.  75.\n",
      "  70.  67.  70.  68.  80.  96.  97.  97.  83.  63.  62.]\n"
     ]
    },
    {
     "data": {
      "image/png": "[encoded data removed]",
      "text/plain": [
       "<Figure size 432x288 with 1 Axes>"
      ]
     },
     "metadata": {},
     "output_type": "display_data"
    }
   ],
   "source": [
    "# plt.boxplot(y,showfliers=True)\n",
    "# plt.show()\n",
    "\n",
    "r=plt.boxplot(y,showfliers=True)\n",
    "\n",
    "print('異常値: ',r['fliers'][0].get_data()[1])#取得異常値"
   ]
  },
  {
   "cell_type": "code",
   "execution_count": 15,
   "metadata": {},
   "outputs": [],
   "source": [
    "from sklearn.ensemble import RandomForestRegressor\n",
    "\n",
    "clf = RandomForestRegressor(max_depth=5, random_state=0,\n",
    "                       n_estimators=100)"
   ]
  },
  {
   "cell_type": "code",
   "execution_count": 16,
   "metadata": {},
   "outputs": [
    {
     "data": {
      "text/plain": [
       "SelectFromModel(estimator=RandomForestRegressor(bootstrap=True, criterion='mse',\n",
       "                                                max_depth=5,\n",
       "                                                max_features='auto',\n",
       "                                                max_leaf_nodes=None,\n",
       "                                                min_impurity_decrease=0.0,\n",
       "                                                min_impurity_split=None,\n",
       "                                                min_samples_leaf=1,\n",
       "                                                min_samples_split=2,\n",
       "                                                min_weight_fraction_leaf=0.0,\n",
       "                                                n_estimators=100, n_jobs=None,\n",
       "                                                oob_score=False, random_state=0,\n",
       "                                                verbose=0, warm_start=False),\n",
       "                max_features=None, norm_order=1, prefit=False, threshold=0.01)"
      ]
     },
     "execution_count": 16,
     "metadata": {},
     "output_type": "execute_result"
    }
   ],
   "source": [
    "from sklearn.feature_selection import SelectFromModel\n",
    "sfm = SelectFromModel(clf, threshold=0.01)\n",
    "sfm.fit(x,y)"
   ]
  },
  {
   "cell_type": "code",
   "execution_count": 17,
   "metadata": {},
   "outputs": [
    {
     "name": "stdout",
     "output_type": "stream",
     "text": [
      "[ True  True  True  True  True]\n",
      "0\n",
      "1\n",
      "2\n",
      "3\n",
      "4\n"
     ]
    }
   ],
   "source": [
    "print(sfm.get_support())\n",
    "count = -1 \n",
    "for i in sfm.get_support() :\n",
    "    count += 1\n",
    "    if i == True:\n",
    "        print(count)\n"
   ]
  },
  {
   "cell_type": "code",
   "execution_count": 18,
   "metadata": {
    "scrolled": true
   },
   "outputs": [],
   "source": [
    "# ##隨機燊齡補植 但已經採用 R 補植好的資料\n",
    "# # y即目标年龄\n",
    "# y = df_nonull[:, 0]\n",
    "\n",
    "# # X即特征属性值\n",
    "# X = df_nonull[:, 1:]\n",
    "\n",
    "# # fit到RandomForestRegressor之中\n",
    "# rfr = RandomForestRegressor(random_state=0, n_estimators=2000, n_jobs=-1)\n",
    "# rfr.fit(X, y)\n",
    "\n",
    "#  # 用得到的模型进行未知年龄结果预测\n",
    "# predictedAges = rfr.predict(unknown_age[:, 1:])\n",
    "# #     print predictedAges\n",
    "# # 用得到的预测结果填补原缺失数据\n",
    "# df.loc[ (df.Age.isnull()), 'Age' ] = predictedAges \n"
   ]
  },
  {
   "cell_type": "code",
   "execution_count": 19,
   "metadata": {},
   "outputs": [],
   "source": [
    "from sklearn.model_selection import train_test_split\n",
    "X_train, X_test, y_train, y_test = train_test_split(\n",
    "x, y , test_size=0.2, random_state=0)\n",
    "y_trainn = np.array(y_train)"
   ]
  },
  {
   "cell_type": "code",
   "execution_count": 20,
   "metadata": {},
   "outputs": [],
   "source": [
    "from sklearn.preprocessing import MinMaxScaler\n",
    "\n",
    "sc = MinMaxScaler()\n",
    "sc.fit(x)\n",
    "X_train_std = sc.transform(X_train)\n",
    "X_test_std = sc.transform(X_test)"
   ]
  },
  {
   "cell_type": "code",
   "execution_count": 32,
   "metadata": {
    "scrolled": true
   },
   "outputs": [
    {
     "name": "stdout",
     "output_type": "stream",
     "text": [
      "第1次 12.965303258970467 [1.2209865  0.86027533]\n",
      "第2次 12.7434093512434 [1.66663451 2.11915697]\n",
      "第3次 12.553077020432301 [1.97398759 2.81698269]\n",
      "第4次 12.355615176640134 [2.8312694  4.53356321]\n",
      "第5次 12.167064597785956 [3.8091226  6.31430684]\n",
      "第6次 12.080883630960146 [4.3762782  8.61952589]\n",
      "第7次 11.931885194513606 [ 6.40545717 12.47017058]\n",
      "第8次 11.811882339299649 [ 7.55150292 16.34787617]\n",
      "第9次 11.671899860194419 [ 9.82745892 21.9418026 ]\n",
      "第10次 11.563413926271146 [12.22431259 27.01860393]\n",
      "第11次 11.437224272081934 [15.21051604 32.45141389]\n",
      "第12次 11.330530312755208 [19.27430236 37.19539906]\n",
      "第13次 11.225813992639178 [23.8861236  42.26762421]\n",
      "第14次 11.135383500070631 [29.71810742 47.02080064]\n",
      "第15次 11.060569087597864 [34.78920037 52.03206016]\n",
      "第16次 10.999120627016909 [37.98920037 55.23206016]\n",
      "第17次 10.959742971801894 [41.74855233 59.32152983]\n",
      "第18次 10.882069165083022 [46.7567602  64.02793226]\n",
      "第19次 10.801700065970753 [51.28695392 69.50908246]\n",
      "第20次 10.72202867551785 [56.62879651 74.35898259]\n",
      "第21次 10.65846549770464 [61.47182372 79.47460186]\n",
      "第22次 10.597580806556916 [66.77571885 84.15542957]\n",
      "第23次 10.54991027776998 [71.54610882 89.39712872]\n",
      "第24次 10.486024526603954 [76.43305239 94.4688556 ]\n",
      "第25次 10.438017986277142 [80.72483088 99.35930885]\n",
      "第26次 10.375635625056535 [ 85.52021655 104.35896633]\n",
      "第27次 10.328992440856815 [ 91.75969933 109.19666833]\n",
      "第28次 10.296599578033204 [ 95.03041642 112.39277921]\n",
      "第29次 10.259335152007978 [100.75969933 118.19666833]\n",
      "第30次 10.226331230954214 [103.97077206 121.41213031]\n"
     ]
    },
    {
     "data": {
      "image/png": "[encoded data removed]",
      "text/plain": [
       "<Figure size 432x288 with 1 Axes>"
      ]
     },
     "metadata": {},
     "output_type": "display_data"
    }
   ],
   "source": [
    "# coding: utf-8\n",
    "from sklearn.tree import DecisionTreeRegressor\n",
    "import numpy as np  \n",
    "import random   \n",
    "import matplotlib.pyplot as plt  \n",
    "max_iter=30 # 跌帶次數\n",
    "pN = 60  # 人口\n",
    "clf = DecisionTreeRegressor(max_depth = 1 , max_leaf_nodes = 2 )\n",
    "#----------------------PSO参数设置---------------------------------  \n",
    "class PSO():  \n",
    "    def __init__(self,pN,dim,max_iter):  \n",
    "        self.w = 0.8    \n",
    "        self.c1 = 1.96     \n",
    "        self.c2 = 1.96     \n",
    "        self.r1= 0.6  \n",
    "        self.r2=0.3\n",
    "        self.Vbest = 1.5             # 最高速度\n",
    "        self.pN = pN                #粒子数量  \n",
    "        self.dim = dim              #搜索维度  \n",
    "        self.max_iter = max_iter    #迭代次数  \n",
    "        self.X = np.zeros((self.pN,self.dim))       #所有粒子的位置和速度  \n",
    "        self.V = np.zeros((self.pN,self.dim))  \n",
    "        self.pbest = np.zeros((self.pN,self.dim))   #個體經歷的最佳位置和全局最佳位置  \n",
    "        self.gbest = np.zeros((1,self.dim))  \n",
    "        self.p_fit = np.zeros(self.pN)              #每個個體的歷史最佳值  \n",
    "        self.fit = 1e10             #全局最佳值  \n",
    "          \n",
    "#---------------------目标函数Sphere函数-----------------------------  \n",
    "    def function(self,x): \n",
    "        clf = DecisionTreeRegressor(max_depth = int(x[0]) + 1 , max_leaf_nodes = int(x[1]) + 2 )\n",
    "        clf.fit(X_train_std,y_train)\n",
    "        pred = clf.predict(X_train_std)\n",
    "        n = X_train.shape[0] \n",
    "        rmse = 0.0\n",
    "        for i in range(n):\n",
    "            rmse += (pred[i] - y_trainn[i]) ** 2\n",
    "        rmse = (rmse/n) ** 0.5\n",
    "        return rmse\n",
    "#---------------------初始化种群----------------------------------  \n",
    "    def init_Population(self):  \n",
    "        for i in range(self.pN):  \n",
    "            for j in range(self.dim):  \n",
    "                self.X[i][j] = random.uniform(0,1)  \n",
    "                self.V[i][j] = random.uniform(0,1)  \n",
    "            self.pbest[i] = self.X[i]  \n",
    "            tmp = self.function(self.X[i])  \n",
    "            self.p_fit[i] = tmp  \n",
    "            if(tmp < self.fit):  \n",
    "                self.fit = tmp  \n",
    "                self.gbest = self.X[i]  \n",
    "      \n",
    "#----------------------更新粒子位置----------------------------------  \n",
    "    def iterator(self):  \n",
    "        fitness = []  \n",
    "        for t in range(self.max_iter):  \n",
    "            for i in range(self.pN):         #更新gbest\\pbest  \n",
    "               temp = self.function(self.X[i])  \n",
    "               if(temp<self.p_fit[i]):      #更新个体最优  \n",
    "                   self.p_fit[i] = temp  \n",
    "                   self.pbest[i] = self.X[i]  \n",
    "                   if(self.p_fit[i] < self.fit):  #更新全局最优  \n",
    "                       self.gbest = self.X[i]  \n",
    "                       self.fit = self.p_fit[i]  \n",
    "            for i in range(self.pN): \n",
    "                temp = self.w*self.V[i] + self.c1*self.r1*(self.pbest[i] - self.X[i]) + \\\n",
    "                            self.c2*self.r2*(self.gbest - self.X[i])  \n",
    "                for z in range(self.dim):\n",
    "                    if temp[z]  >= self.Vbest:\n",
    "                        temp[z] = self.Vbest\n",
    "                self.V[i] = temp\n",
    "                self.X[i] = self.X[i] + self.V[i]  \n",
    "            fitness.append(self.fit)  \n",
    "            print(\"第%d次\" %  (t + 1) ,self.fit,self.gbest)                   #输出最优值  \n",
    "        return fitness  \n",
    " \n",
    "#----------------------程序执行-----------------------  \n",
    "my_pso = PSO(pN=pN,dim=2,max_iter=max_iter)  \n",
    "my_pso.init_Population()  \n",
    "fitness = my_pso.iterator()\n",
    "#-------------------画图--------------------  \n",
    "plt.figure(1)  \n",
    "plt.title(\"Figure1\")  \n",
    "plt.xlabel(\"iterators\", size=14)  \n",
    "plt.ylabel(\"fitness\", size=14)  \n",
    "t = np.array([t for t in range(0,max_iter)])  \n",
    "fitness = np.array(fitness)  \n",
    "plt.plot(t,fitness, color='b',linewidth=3)  \n",
    "plt.show()"
   ]
  },
  {
   "cell_type": "code",
   "execution_count": 34,
   "metadata": {},
   "outputs": [
    {
     "name": "stdout",
     "output_type": "stream",
     "text": [
      "RMSE 12.180751350503513\n"
     ]
    }
   ],
   "source": [
    "clf = DecisionTreeRegressor(max_depth = 40 , max_leaf_nodes = 41 )\n",
    "clf.fit(X_train_std,y_train)\n",
    "pred = clf.predict(X_test_std)\n",
    "n = X_test_std.shape[0] \n",
    "rmse = 0.0\n",
    "y_testt = np.array(y_test)\n",
    "for i in range(n):\n",
    "    rmse += (pred[i] - y_testt[i]) ** 2\n",
    "rmse = (rmse/n) ** 0.5\n",
    "print(\"RMSE\" , rmse)\n",
    "    "
   ]
  }
 ],
 "metadata": {
  "kernelspec": {
   "display_name": "Python 3",
   "language": "python",
   "name": "python3"
  },
  "language_info": {
   "codemirror_mode": {
    "name": "ipython",
    "version": 3
   },
   "file_extension": ".py",
   "mimetype": "text/x-python",
   "name": "python",
   "nbconvert_exporter": "python",
   "pygments_lexer": "ipython3",
   "version": "3.7.1"
  }
 },
 "nbformat": 4,
 "nbformat_minor": 2
}
