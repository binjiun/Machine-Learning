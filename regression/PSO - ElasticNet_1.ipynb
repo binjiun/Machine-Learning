{
 "cells": [
  {
   "cell_type": "code",
   "execution_count": null,
   "metadata": {
    "scrolled": false
   },
   "outputs": [],
   "source": [
    "a = df.corr()\n",
    "fig, ax = plt.subplots(figsize = (10,10))\n",
    "#二維的陣列的熱力圖，橫軸和數軸的ticklabels要加上去的話，既可以通過將array轉換成有column\n",
    "#和index的DataFrame直接繪圖生成，也可以後續再加上去。後面加上去的話，更靈活，包括可設定labels大小方向等。\n",
    "sns.heatmap(pd.DataFrame(np.round(a,2), columns =df.columns, index = df.columns), \n",
    "                annot=True, vmax=1,vmin = 0, xticklabels= True, yticklabels= True, square=True, cmap=\"YlGnBu\")\n",
    "#sns.heatmap(np.round(a,2), annot=True, vmax=1,vmin = 0, xticklabels= True, yticklabels= True, \n",
    "#            square=True, cmap=\"YlGnBu\")\n",
    "ax.set_title('二維陣列熱力圖', fontsize = 18)\n",
    "ax.set_ylabel('特徵', fontsize = 18)\n",
    "ax.set_xlabel('特徵', fontsize = 18) #橫變成y軸，跟矩陣原始的佈局情況是一樣的"
   ]
  },
  {
   "cell_type": "code",
   "execution_count": null,
   "metadata": {},
   "outputs": [],
   "source": [
    "df2=df['Air Pressure']\n",
    "\n",
    "\n",
    "df2.plot(kind='kde',title='Air Pressure')\n",
    "plt.show()\n",
    "\n",
    "print('標準差 :',df2.std())"
   ]
  },
  {
   "cell_type": "code",
   "execution_count": null,
   "metadata": {},
   "outputs": [],
   "source": [
    "df2=df['Air Temperature']\n",
    "\n",
    "\n",
    "df2.plot(kind='kde',title='\tAir Temperature')\n",
    "plt.show()\n",
    "\n",
    "print('標準差 :',df2.std())"
   ]
  },
  {
   "cell_type": "code",
   "execution_count": null,
   "metadata": {},
   "outputs": [],
   "source": [
    "df2=df['Wind Speed']\n",
    "\n",
    "\n",
    "df2.plot(kind='kde',title='Wind Speed')\n",
    "plt.show()\n",
    "\n",
    "print('標準差 :',df2.std())"
   ]
  },
  {
   "cell_type": "code",
   "execution_count": null,
   "metadata": {},
   "outputs": [],
   "source": [
    "df2=df['Precipitation']\n",
    "\n",
    "\n",
    "df2.plot(kind='kde',title='Precipitation')\n",
    "plt.show()\n",
    "\n",
    "print('標準差 :',df2.std())"
   ]
  },
  {
   "cell_type": "code",
   "execution_count": null,
   "metadata": {
    "scrolled": true
   },
   "outputs": [],
   "source": [
    "df2=df['PM2.5']\n",
    "\n",
    "\n",
    "df2.plot(kind='kde',title='PM2.5')\n",
    "plt.show()\n",
    "\n",
    "print('標準差 :',df2.std())"
   ]
  },
  {
   "cell_type": "code",
   "execution_count": null,
   "metadata": {},
   "outputs": [],
   "source": [
    "# plt.boxplot(y,showfliers=True)\n",
    "# plt.show()\n",
    "\n",
    "r=plt.boxplot(y,showfliers=True)\n",
    "\n",
    "print('異常値: ',r['fliers'][0].get_data()[1])#取得異常値"
   ]
  },
  {
   "cell_type": "code",
   "execution_count": null,
   "metadata": {},
   "outputs": [],
   "source": [
    "from sklearn.ensemble import RandomForestRegressor\n",
    "\n",
    "clf = RandomForestRegressor(max_depth=5, random_state=0,\n",
    "                       n_estimators=100)"
   ]
  },
  {
   "cell_type": "code",
   "execution_count": null,
   "metadata": {},
   "outputs": [],
   "source": [
    "from sklearn.feature_selection import SelectFromModel\n",
    "sfm = SelectFromModel(clf, threshold=0.01)\n",
    "sfm.fit(x,y)"
   ]
  },
  {
   "cell_type": "code",
   "execution_count": null,
   "metadata": {},
   "outputs": [],
   "source": [
    "print(sfm.get_support())\n",
    "count = -1 \n",
    "for i in sfm.get_support() :\n",
    "    count += 1\n",
    "    if i == True:\n",
    "        print(count)\n"
   ]
  },
  {
   "cell_type": "code",
   "execution_count": null,
   "metadata": {
    "scrolled": true
   },
   "outputs": [],
   "source": [
    "# ##隨機燊齡補植 但已經採用 R 補植好的資料\n",
    "# # y即目标年龄\n",
    "# y = df_nonull[:, 0]\n",
    "\n",
    "# # X即特征属性值\n",
    "# X = df_nonull[:, 1:]\n",
    "\n",
    "# # fit到RandomForestRegressor之中\n",
    "# rfr = RandomForestRegressor(random_state=0, n_estimators=2000, n_jobs=-1)\n",
    "# rfr.fit(X, y)\n",
    "\n",
    "#  # 用得到的模型进行未知年龄结果预测\n",
    "# predictedAges = rfr.predict(unknown_age[:, 1:])\n",
    "# #     print predictedAges\n",
    "# # 用得到的预测结果填补原缺失数据\n",
    "# df.loc[ (df.Age.isnull()), 'Age' ] = predictedAges \n"
   ]
  },
  {
   "cell_type": "code",
   "execution_count": null,
   "metadata": {},
   "outputs": [],
   "source": [
    "from sklearn.model_selection import train_test_split\n",
    "X_train, X_test, y_train, y_test = train_test_split(\n",
    "x, y , test_size=0.2, random_state=0)\n",
    "y_trainn = np.array(y_train)"
   ]
  },
  {
   "cell_type": "code",
   "execution_count": null,
   "metadata": {},
   "outputs": [],
   "source": [
    "from sklearn.preprocessing import MinMaxScaler\n",
    "\n",
    "sc = MinMaxScaler()\n",
    "sc.fit(x)\n",
    "X_train_std = sc.transform(X_train)\n",
    "X_test_std = sc.transform(X_test)"
   ]
  },
  {
   "cell_type": "code",
   "execution_count": null,
   "metadata": {},
   "outputs": [],
   "source": [
    "import warnings\n",
    "\n",
    "warnings.filterwarnings('ignore')"
   ]
  },
  {
   "cell_type": "code",
   "execution_count": null,
   "metadata": {
    "scrolled": false
   },
   "outputs": [],
   "source": [
    "# coding: utf-8\n",
    "from sklearn.linear_model import ElasticNet\n",
    "\n",
    "\n",
    "import numpy as np  \n",
    "import random   \n",
    "import matplotlib.pyplot as plt  \n",
    "max_iter=100 # 跌帶次數\n",
    "pN = 60  # 人口\n",
    "clf = ElasticNet(alpha=0.1, l1_ratio=0.7)\n",
    "#----------------------PSO参数设置---------------------------------  \n",
    "class PSO():  \n",
    "    def __init__(self,pN,dim,max_iter):  \n",
    "        self.w = 0.8    \n",
    "        self.c1 = 1.96     \n",
    "        self.c2 = 1.96     \n",
    "        self.r1= 0.6  \n",
    "        self.r2=0.3\n",
    "        self.Vbest = 0.3             # 最高速度\n",
    "        self.pN = pN                #粒子数量  \n",
    "        self.dim = dim              #搜索维度  \n",
    "        self.max_iter = max_iter    #迭代次数  \n",
    "        self.X = np.zeros((self.pN,self.dim))       #所有粒子的位置和速度  \n",
    "        self.V = np.zeros((self.pN,self.dim))  \n",
    "        self.pbest = np.zeros((self.pN,self.dim))   #個體經歷的最佳位置和全局最佳位置  \n",
    "        self.gbest = np.zeros((1,self.dim))  \n",
    "        self.p_fit = np.zeros(self.pN)              #每個個體的歷史最佳值  \n",
    "        self.fit = 1e10             #全局最佳值  \n",
    "          \n",
    "#---------------------目标函数Sphere函数-----------------------------  \n",
    "    def function(self,x): \n",
    "        clf = ElasticNet(alpha=x[0] , l1_ratio=x[1])\n",
    "        clf.fit(X_train_std,y_train)\n",
    "        pred = clf.predict(X_train_std)\n",
    "        n = X_train.shape[0] \n",
    "        rmse = 0.0\n",
    "        for i in range(n):\n",
    "            rmse += (pred[i] - y_trainn[i]) ** 2\n",
    "        rmse = (rmse/n) ** 0.5\n",
    "        return rmse\n",
    "#---------------------初始化种群----------------------------------  \n",
    "    def init_Population(self):  \n",
    "        for i in range(self.pN):  \n",
    "            for j in range(self.dim):  \n",
    "                self.X[i][j] = random.uniform(0,1)  \n",
    "                self.V[i][j] = random.uniform(0,1)  \n",
    "            self.pbest[i] = self.X[i]  \n",
    "            tmp = self.function(self.X[i])  \n",
    "            self.p_fit[i] = tmp  \n",
    "            if(tmp < self.fit):  \n",
    "                self.fit = tmp  \n",
    "                self.gbest = self.X[i]  \n",
    "      \n",
    "#----------------------更新粒子位置----------------------------------  \n",
    "    def iterator(self):  \n",
    "        fitness = []  \n",
    "        for t in range(self.max_iter):  \n",
    "            for i in range(self.pN):         #更新gbest\\pbest  \n",
    "               temp = self.function(self.X[i])  \n",
    "               if(temp<self.p_fit[i]):      #更新个体最优  \n",
    "                   self.p_fit[i] = temp  \n",
    "                   self.pbest[i] = self.X[i]  \n",
    "                   if(self.p_fit[i] < self.fit):  #更新全局最优  \n",
    "                       self.gbest = self.X[i]  \n",
    "                       self.fit = self.p_fit[i]  \n",
    "            for i in range(self.pN): \n",
    "                temp = self.w*self.V[i] + self.c1*self.r1*(self.pbest[i] - self.X[i]) + \\\n",
    "                            self.c2*self.r2*(self.gbest - self.X[i])  \n",
    "                for z in range(self.dim):\n",
    "                    if temp[z]  >= self.Vbest:\n",
    "                        temp[z] = self.Vbest\n",
    "                self.V[i] = temp\n",
    "                self.X[i] = self.X[i] + self.V[i]  \n",
    "            fitness.append(self.fit)  \n",
    "            print(\"第%d次\" %  (t + 1) ,self.fit,self.gbest)                   #输出最优值  \n",
    "        return fitness  \n",
    " \n",
    "#----------------------程序执行-----------------------  \n",
    "my_pso = PSO(pN=pN,dim=2,max_iter=max_iter)  \n",
    "my_pso.init_Population()  \n",
    "fitness = my_pso.iterator()\n",
    "#-------------------画图--------------------  \n",
    "plt.figure(1)  \n",
    "plt.title(\"Figure1\")  \n",
    "plt.xlabel(\"iterators\", size=14)  \n",
    "plt.ylabel(\"fitness\", size=14)  \n",
    "t = np.array([t for t in range(0,max_iter)])  \n",
    "fitness = np.array(fitness)  \n",
    "plt.plot(t,fitness, color='b',linewidth=3)  \n",
    "plt.show()"
   ]
  },
  {
   "cell_type": "code",
   "execution_count": null,
   "metadata": {},
   "outputs": [],
   "source": [
    "clf =  ElasticNet(alpha=0.06095951 , l1_ratio=1.2)\n",
    "clf.fit(X_train_std,y_train)\n",
    "pred = clf.predict(X_test_std)\n",
    "n = X_test_std.shape[0] \n",
    "rmse = 0.0\n",
    "y_testt = np.array(y_test)\n",
    "for i in range(n):\n",
    "    rmse += (pred[i] - y_testt[i]) ** 2\n",
    "rmse = (rmse/n) ** 0.5\n",
    "print(\"RMSE\" , rmse)\n",
    "    "
   ]
  }
 ],
 "metadata": {
  "kernelspec": {
   "display_name": "Python 3",
   "language": "python",
   "name": "python3"
  },
  "language_info": {
   "codemirror_mode": {
    "name": "ipython",
    "version": 3
   },
   "file_extension": ".py",
   "mimetype": "text/x-python",
   "name": "python",
   "nbconvert_exporter": "python",
   "pygments_lexer": "ipython3",
   "version": "3.7.1"
  }
 },
 "nbformat": 4,
 "nbformat_minor": 2
}
