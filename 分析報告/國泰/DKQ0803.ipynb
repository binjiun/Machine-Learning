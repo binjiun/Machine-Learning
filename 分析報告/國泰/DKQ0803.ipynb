{
 "cells": [
  {
   "cell_type": "code",
   "execution_count": 44,
   "metadata": {},
   "outputs": [],
   "source": [
    "import pandas as pd \n",
    "import cx_Oracle\n",
    "import pymysql\n",
    "connection =  cx_Oracle.connect(\"l7bint_ap\", \"l7bint$ap\", \"tcpp103:1553/L7BHSHA\")\n",
    "con = pymysql.connect(\"tw100043811\",\"l7b01_ap\",\"l7b01$ap\",\"db\" )\n",
    "sql = \"SELECT DEPARTMENT, USER_ID  FROM aryods.c_fac_user_mst WHERE 1 = 1 AND DEPARTMENT like 'ML7B%' AND CHANGE_STATUS = 'Y' AND SHIFT_ID is not null AND USER_DESC = 'DL' \" \n",
    "df = pd.read_sql(sql , connection)\n",
    "total = df.groupby('DEPARTMENT').count().to_dict()['USER_ID']\n",
    "dllevel =pd.read_sql('SELECT DEPT , LEVEL ,count(NAME) as count FROM db.dl_level group by LEVEL , DEPT order by LEVEL;',con)\n",
    "dllevel_dict = dllevel.set_index('DEPT').to_dict()\n",
    "DEPT = [ i for i in set(dllevel['DEPT'])]\n",
    "Level1 = [ int(dllevel[( dllevel['DEPT'] == i) & (dllevel['LEVEL'] == 'Level 1' ) ]['count'].iloc[0]) if  dllevel[( dllevel['DEPT'] == i) & (dllevel['LEVEL'] == 'Level 1' ) ].shape[0]  != 0 else 0 for i in DEPT]\n",
    "Level2 = [ int(dllevel[( dllevel['DEPT'] == i) & (dllevel['LEVEL'] == 'Level 2' ) ]['count'].iloc[0]) if  dllevel[( dllevel['DEPT'] == i) & (dllevel['LEVEL'] == 'Level 2' ) ].shape[0]  != 0 else 0 for i in DEPT]\n",
    "Level3 = [ int(dllevel[( dllevel['DEPT'] == i) & (dllevel['LEVEL'] == 'Level 3' ) ]['count'].iloc[0]) if  dllevel[( dllevel['DEPT'] == i) & (dllevel['LEVEL'] == 'Level 3' ) ].shape[0]  != 0 else 0 for i in DEPT]\n",
    "DEPT = [ i[-2:] for i in DEPT]\n",
    "connection.close()\n",
    "con.close()"
   ]
  },
  {
   "cell_type": "code",
   "execution_count": 76,
   "metadata": {},
   "outputs": [],
   "source": [
    "import random\n",
    "con = pymysql.connect(\"10.96.152.76\",\"sam\",\"0000\",\"sam\" )\n",
    "course =pd.read_sql('SELECT SECTION as dept,count(course) as number FROM sam.dkq_main_table group by SECTION;',con)\n",
    "course_dept = list(course['dept'].astype(str)) \n",
    "course_number = list(course['number'].astype(str)) \n",
    "course_border = [ int(0) for i in range(len(course_dept))]\n",
    "course_color = [ [\"#\"+''.join([random.choice('0123456789ABCDEF') for j in range(6)])][0]  for i in range(len(course_dept))]\n",
    "con.close()"
   ]
  },
  {
   "cell_type": "code",
   "execution_count": 75,
   "metadata": {},
   "outputs": [
    {
     "data": {
      "text/plain": [
       "['E1']"
      ]
     },
     "execution_count": 75,
     "metadata": {},
     "output_type": "execute_result"
    }
   ],
   "source": [
    "course_dept"
   ]
  },
  {
   "cell_type": "code",
   "execution_count": 1,
   "metadata": {},
   "outputs": [
    {
     "ename": "NameError",
     "evalue": "name 'df' is not defined",
     "output_type": "error",
     "traceback": [
      "\u001b[1;31m---------------------------------------------------------------------------\u001b[0m",
      "\u001b[1;31mNameError\u001b[0m                                 Traceback (most recent call last)",
      "\u001b[1;32m<ipython-input-1-00cf07b74dcd>\u001b[0m in \u001b[0;36m<module>\u001b[1;34m()\u001b[0m\n\u001b[1;32m----> 1\u001b[1;33m \u001b[0mdf\u001b[0m\u001b[1;33m\u001b[0m\u001b[0m\n\u001b[0m",
      "\u001b[1;31mNameError\u001b[0m: name 'df' is not defined"
     ]
    }
   ],
   "source": [
    "__main__.MyClass"
   ]
  }
 ],
 "metadata": {
  "kernelspec": {
   "display_name": "Python 3",
   "language": "python",
   "name": "python3"
  },
  "language_info": {
   "codemirror_mode": {
    "name": "ipython",
    "version": 3
   },
   "file_extension": ".py",
   "mimetype": "text/x-python",
   "name": "python",
   "nbconvert_exporter": "python",
   "pygments_lexer": "ipython3",
   "version": "3.6.5"
  }
 },
 "nbformat": 4,
 "nbformat_minor": 2
}
