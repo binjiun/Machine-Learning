{
 "cells": [
  {
   "cell_type": "code",
   "execution_count": 5,
   "metadata": {},
   "outputs": [],
   "source": [
    "from sklearn import datasets\n",
    "from sklearn.model_selection import train_test_split\n",
    "from sklearn.cluster import KMeans\n",
    "import pandas as pd\n",
    "import seaborn as sns\n",
    "import matplotlib.pyplot as plt\n",
    "import numpy as np"
   ]
  },
  {
   "cell_type": "code",
   "execution_count": 6,
   "metadata": {},
   "outputs": [],
   "source": [
    "iris = datasets.load_iris()\n",
    "iris_data = iris.data # 花萼 長度 花萼 寬度 花瓣長度 屬種\n",
    "iris_label = iris.target"
   ]
  },
  {
   "cell_type": "code",
   "execution_count": 12,
   "metadata": {},
   "outputs": [
    {
     "data": {
      "text/html": [
       "<div>\n",
       "<style scoped>\n",
       "    .dataframe tbody tr th:only-of-type {\n",
       "        vertical-align: middle;\n",
       "    }\n",
       "\n",
       "    .dataframe tbody tr th {\n",
       "        vertical-align: top;\n",
       "    }\n",
       "\n",
       "    .dataframe thead th {\n",
       "        text-align: right;\n",
       "    }\n",
       "</style>\n",
       "<table border=\"1\" class=\"dataframe\">\n",
       "  <thead>\n",
       "    <tr style=\"text-align: right;\">\n",
       "      <th></th>\n",
       "      <th>0</th>\n",
       "      <th>1</th>\n",
       "      <th>2</th>\n",
       "      <th>3</th>\n",
       "    </tr>\n",
       "  </thead>\n",
       "  <tbody>\n",
       "    <tr>\n",
       "      <th>0</th>\n",
       "      <td>5.1</td>\n",
       "      <td>3.5</td>\n",
       "      <td>1.4</td>\n",
       "      <td>0.2</td>\n",
       "    </tr>\n",
       "    <tr>\n",
       "      <th>1</th>\n",
       "      <td>4.9</td>\n",
       "      <td>3.0</td>\n",
       "      <td>1.4</td>\n",
       "      <td>0.2</td>\n",
       "    </tr>\n",
       "    <tr>\n",
       "      <th>2</th>\n",
       "      <td>4.7</td>\n",
       "      <td>3.2</td>\n",
       "      <td>1.3</td>\n",
       "      <td>0.2</td>\n",
       "    </tr>\n",
       "    <tr>\n",
       "      <th>3</th>\n",
       "      <td>4.6</td>\n",
       "      <td>3.1</td>\n",
       "      <td>1.5</td>\n",
       "      <td>0.2</td>\n",
       "    </tr>\n",
       "    <tr>\n",
       "      <th>4</th>\n",
       "      <td>5.0</td>\n",
       "      <td>3.6</td>\n",
       "      <td>1.4</td>\n",
       "      <td>0.2</td>\n",
       "    </tr>\n",
       "  </tbody>\n",
       "</table>\n",
       "</div>"
      ],
      "text/plain": [
       "     0    1    2    3\n",
       "0  5.1  3.5  1.4  0.2\n",
       "1  4.9  3.0  1.4  0.2\n",
       "2  4.7  3.2  1.3  0.2\n",
       "3  4.6  3.1  1.5  0.2\n",
       "4  5.0  3.6  1.4  0.2"
      ]
     },
     "execution_count": 12,
     "metadata": {},
     "output_type": "execute_result"
    }
   ],
   "source": [
    "iris_data[0:5]"
   ]
  },
  {
   "cell_type": "code",
   "execution_count": 1,
   "metadata": {},
   "outputs": [
    {
     "ename": "NameError",
     "evalue": "name 'train_test_split' is not defined",
     "output_type": "error",
     "traceback": [
      "\u001b[1;31m---------------------------------------------------------------------------\u001b[0m",
      "\u001b[1;31mNameError\u001b[0m                                 Traceback (most recent call last)",
      "\u001b[1;32m<ipython-input-1-b03e0a6e83c6>\u001b[0m in \u001b[0;36m<module>\u001b[1;34m\u001b[0m\n\u001b[1;32m----> 1\u001b[1;33m \u001b[0mtrain_data\u001b[0m \u001b[1;33m,\u001b[0m \u001b[0mtest_data\u001b[0m \u001b[1;33m,\u001b[0m \u001b[0mtrain_label\u001b[0m \u001b[1;33m,\u001b[0m \u001b[0mtest_label\u001b[0m \u001b[1;33m=\u001b[0m \u001b[0mtrain_test_split\u001b[0m\u001b[1;33m(\u001b[0m\u001b[0mdf_feat\u001b[0m\u001b[1;33m,\u001b[0m\u001b[0miris_label\u001b[0m\u001b[1;33m,\u001b[0m\u001b[0mtest_size\u001b[0m\u001b[1;33m=\u001b[0m\u001b[1;36m0.2\u001b[0m\u001b[1;33m)\u001b[0m \u001b[1;31m# 切資料\u001b[0m\u001b[1;33m\u001b[0m\u001b[1;33m\u001b[0m\u001b[0m\n\u001b[0m",
      "\u001b[1;31mNameError\u001b[0m: name 'train_test_split' is not defined"
     ]
    }
   ],
   "source": [
    "train_data , test_data , train_label , test_label = train_test_split(df_feat,iris_label,test_size=0.2) # 切資料"
   ]
  },
  {
   "cell_type": "code",
   "execution_count": 16,
   "metadata": {},
   "outputs": [
    {
     "name": "stdout",
     "output_type": "stream",
     "text": [
      "0:\tlearn: 0.6907761\ttotal: 63.7ms\tremaining: 63.7ms\n",
      "1:\tlearn: 0.6660540\ttotal: 70.5ms\tremaining: 0us\n",
      "class =  [0. 0. 0. 0. 1. 0. 1. 0. 0. 0. 0. 1. 0. 0. 0. 0. 0. 0. 0. 0. 0. 0. 0. 1.\n",
      " 1. 0. 0. 0. 0. 0. 0. 0. 1. 1. 0. 0. 1. 1. 0. 0. 0. 1. 1. 1. 0. 0. 0. 0.\n",
      " 0. 1.]\n",
      "proba =  [[0.55377172 0.44622828]\n",
      " [0.52797719 0.47202281]\n",
      " [0.55377172 0.44622828]\n",
      " [0.52797719 0.47202281]\n",
      " [0.45114762 0.54885238]\n",
      " [0.54433988 0.45566012]\n",
      " [0.42557435 0.57442565]\n",
      " [0.5761726  0.4238274 ]\n",
      " [0.51227916 0.48772084]\n",
      " [0.51227916 0.48772084]\n",
      " [0.55062218 0.44937782]\n",
      " [0.42557435 0.57442565]\n",
      " [0.55062218 0.44937782]\n",
      " [0.54433988 0.45566012]\n",
      " [0.52797719 0.47202281]\n",
      " [0.51227916 0.48772084]\n",
      " [0.51227916 0.48772084]\n",
      " [0.52797719 0.47202281]\n",
      " [0.55062218 0.44937782]\n",
      " [0.55062218 0.44937782]\n",
      " [0.52797719 0.47202281]\n",
      " [0.51227916 0.48772084]\n",
      " [0.52797719 0.47202281]\n",
      " [0.42557435 0.57442565]\n",
      " [0.42557435 0.57442565]\n",
      " [0.52797719 0.47202281]\n",
      " [0.52797719 0.47202281]\n",
      " [0.52797719 0.47202281]\n",
      " [0.55377172 0.44622828]\n",
      " [0.55377172 0.44622828]\n",
      " [0.52797719 0.47202281]\n",
      " [0.55377172 0.44622828]\n",
      " [0.45114762 0.54885238]\n",
      " [0.42557435 0.57442565]\n",
      " [0.52797719 0.47202281]\n",
      " [0.52797719 0.47202281]\n",
      " [0.42557435 0.57442565]\n",
      " [0.45114762 0.54885238]\n",
      " [0.55377172 0.44622828]\n",
      " [0.56684389 0.43315611]\n",
      " [0.51227916 0.48772084]\n",
      " [0.45922354 0.54077646]\n",
      " [0.44173339 0.55826661]\n",
      " [0.41027461 0.58972539]\n",
      " [0.52797719 0.47202281]\n",
      " [0.55062218 0.44937782]\n",
      " [0.5761726  0.4238274 ]\n",
      " [0.52797719 0.47202281]\n",
      " [0.55062218 0.44937782]\n",
      " [0.41027461 0.58972539]]\n"
     ]
    }
   ],
   "source": [
    "import numpy as np\n",
    "import catboost as cb\n",
    " \n",
    "train_data = np.random.randint(0, 100, size=(100, 10))\n",
    "train_label = np.random.randint(0, 2, size=(100))\n",
    "test_data = np.random.randint(0,100, size=(50,10))\n",
    " \n",
    "model = cb.CatBoostClassifier(iterations=2, depth=2, learning_rate=0.5, loss_function='Logloss',\n",
    "                              logging_level='Verbose')\n",
    "model.fit(train_data, train_label, cat_features=[0,2,5])\n",
    "preds_class = model.predict(test_data)\n",
    "preds_probs = model.predict_proba(test_data)\n",
    "print('class = ',preds_class)\n",
    "print('proba = ',preds_probs)"
   ]
  },
  {
   "cell_type": "code",
   "execution_count": null,
   "metadata": {},
   "outputs": [],
   "source": [
    "from sklearn.metrics import roc_auc_score\n",
    "roc_auc_score(test_label, y_scores)"
   ]
  }
 ],
 "metadata": {
  "kernelspec": {
   "display_name": "Python 3",
   "language": "python",
   "name": "python3"
  },
  "language_info": {
   "codemirror_mode": {
    "name": "ipython",
    "version": 3
   },
   "file_extension": ".py",
   "mimetype": "text/x-python",
   "name": "python",
   "nbconvert_exporter": "python",
   "pygments_lexer": "ipython3",
   "version": "3.7.1"
  }
 },
 "nbformat": 4,
 "nbformat_minor": 2
}
