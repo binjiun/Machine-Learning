{
 "cells": [
  {
   "cell_type": "code",
   "execution_count": 5,
   "metadata": {},
   "outputs": [
    {
     "data": {
      "image/png": "[encoded data removed]",
      "text/plain": [
       "<Figure size 432x288 with 1 Axes>"
      ]
     },
     "metadata": {
      "needs_background": "light"
     },
     "output_type": "display_data"
    }
   ],
   "source": [
    "# -*- coding:utf-8 -*-\n",
    "import re\n",
    "import math\n",
    "import numpy as np\n",
    "import pylab as pl\n",
    "data = \\\n",
    "\"\"\"1,0.697,0.46,Y,\n",
    "2,0.774,0.376,Y,\n",
    "3,0.634,0.264,Y,\n",
    "4,0.608,0.318,Y,\n",
    "5,0.556,0.215,Y,\n",
    "6,0.403,0.237,Y,\n",
    "7,0.481,0.149,Y,\n",
    "8,0.437,0.211,Y,\n",
    "9,0.666,0.091,N,\n",
    "10,0.639,0.161,N,\n",
    "11,0.657,0.198,N,\n",
    "12,0.593,0.042,N,\n",
    "13,0.719,0.103,N\"\"\"\n",
    "#定义一个西瓜类，四个属性，分别是编号，密度，含糖率，是否好瓜\n",
    "class watermelon:\n",
    "    def __init__(self, properties):\n",
    "        self.number = properties[0]\n",
    "        self.density = float(properties[1])\n",
    "        self.sweet = float(properties[2])\n",
    "        self.good = properties[3]\n",
    "\n",
    "#数据简单处理\n",
    "a = re.split(',', data.strip(\" \"))\n",
    "dataset = []     #dataset:数据集\n",
    "for i in range(int(len(a)/4)):\n",
    "    temp = tuple(a[i * 4: i * 4 + 4])\n",
    "    dataset.append(watermelon(temp))\n",
    "\n",
    "\n",
    "#计算欧几里得距离,a,b分别为两个元组\n",
    "def dist(a, b):\n",
    "    return math.sqrt(math.pow(a[0]-b[0], 2)+math.pow(a[1]-b[1], 2))\n",
    "\n",
    "#算法模型\n",
    "def LVQ(dataset, a, max_iter):\n",
    "    #统计样本一共有多少个分类\n",
    "    T = list(set(i.good for i in dataset))\n",
    "    #随机产生原型向量\n",
    "    P = [(i.density, i.sweet) for i in np.random.choice(dataset, len(T))]\n",
    "    while max_iter > 0:\n",
    "        X = np.random.choice(dataset, 1)[0]\n",
    "        index = np.argmin(dist((X.density, X.sweet), i) for i in P)\n",
    "        t = T[index]\n",
    "        if t == X.good:\n",
    "            P[index] = ((1 - a) * P[index][0] + a * X.density, (1 - a) * P[index][1] + a * X.sweet)\n",
    "        else:\n",
    "            P[index] = ((1 + a) * P[index][0] - a * X.density, (1 + a) * P[index][1] - a * X.sweet)\n",
    "        max_iter -= 1\n",
    "    return P\n",
    "\n",
    "def train_show(dataset, P):\n",
    "    C = [[] for i in P]\n",
    "    for i in dataset:\n",
    "        C[i.good == 'Y'].append(i)\n",
    "    return C\n",
    "\n",
    "#画图\n",
    "def draw(C, P):\n",
    "    colValue = ['r', 'y', 'g', 'b', 'c', 'k', 'm']\n",
    "    for i in range(len(C)):\n",
    "        coo_X = []    #x坐标列表\n",
    "        coo_Y = []    #y坐标列表\n",
    "        for j in range(len(C[i])):\n",
    "            coo_X.append(C[i][j].density)\n",
    "            coo_Y.append(C[i][j].sweet)\n",
    "        pl.scatter(coo_X, coo_Y, marker='x', color=colValue[i%len(colValue)], label=i)\n",
    "    #展示原型向量\n",
    "    P_x = []\n",
    "    P_y = []\n",
    "    for i in range(len(P)):\n",
    "        P_x.append(P[i][0])\n",
    "        P_y.append(P[i][1])\n",
    "        pl.scatter(P[i][0], P[i][1], marker='o', color=colValue[i%len(colValue)], label=\"vector\")\n",
    "    pl.legend(loc='upper right')\n",
    "    pl.show()\n",
    "\n",
    "P = LVQ(dataset, 0.01, 60)\n",
    "C = train_show(dataset, P)\n",
    "draw(C, P)\n",
    "#原文链接：https://blog.csdn.net/u014028027/article/details/71799254"
   ]
  }
 ],
 "metadata": {
  "kernelspec": {
   "display_name": "Python 3",
   "language": "python",
   "name": "python3"
  },
  "language_info": {
   "codemirror_mode": {
    "name": "ipython",
    "version": 3
   },
   "file_extension": ".py",
   "mimetype": "text/x-python",
   "name": "python",
   "nbconvert_exporter": "python",
   "pygments_lexer": "ipython3",
   "version": "3.7.1"
  }
 },
 "nbformat": 4,
 "nbformat_minor": 2
}
