{
 "cells": [
  {
   "cell_type": "code",
   "execution_count": 6,
   "metadata": {},
   "outputs": [],
   "source": [
    "from bs4 import BeautifulSoup\n",
    "import urllib.request\n",
    "import numpy as np\n",
    "import csv\n",
    "import pandas as pd\n",
    "def get_url(adress,year,month,day):\n",
    "    #請求抓取網頁資料\n",
    "    user_agent = 'Mozilla/5.0 (Windows; U; Windows NT 5.1; en-US; rv:1.9.0.7) Gecko/2009021910 Firefox/3.0.7'\n",
    "    url = adress + \"{0}-{1}-{2}\".format(year,month,day)\n",
    "    headers={'User-Agent':user_agent,} \n",
    "\n",
    "    request=urllib.request.Request(url,None,headers)\n",
    "    response = urllib.request.urlopen(request)\n",
    "    webpage = response.read()\n",
    "    #---------------\n",
    "    #soup為儲存網頁內容的變數\n",
    "    soup = BeautifulSoup(webpage,'html.parser')\n",
    "    # print(soup.prettify(), 'html.parser')\n",
    "    # print(soup.p)\n",
    "    return soup\n",
    "\n",
    "def get_data(soup):\n",
    "    data = soup.find_all(\"td\")\n",
    "    temp = []\n",
    "    for i in range(10,len(data)):\n",
    "        if data[i].text.strip() != \"...\" :\n",
    "            temp.append(data[i].text.strip())\n",
    "        else:\n",
    "            temp.append(-1)\n",
    "    temp = np.array(temp)\n",
    "    temp = temp.reshape((len(temp) // 17,17))\n",
    "    time = np.array( [data[4].text.strip()[5:]] *  temp.shape[0]  ).reshape((temp.shape[0] ,1))\n",
    "    temp = np.hstack((time,temp))\n",
    "    return  temp\n"
   ]
  },
  {
   "cell_type": "code",
   "execution_count": 7,
   "metadata": {},
   "outputs": [],
   "source": [
    "def run(url,year,name):\n",
    "    result = [[0] * 18]\n",
    "    result[0][0] = \"日期\"\n",
    "    result[0][1] = \"觀測時間\"\n",
    "    result[0][2] = \"測站氣壓\"\n",
    "    result[0][3] = '海平面氣壓'\n",
    "    result[0][4] = '氣溫'\n",
    "    result[0][5] = '露點溫度'\n",
    "    result[0][6] = '相對溼度'\n",
    "    result[0][7] = '風速'\n",
    "    result[0][8] = '風向'\n",
    "    result[0][9] = '最大陣風'\n",
    "    result[0][10] = '最大陣風風向'\n",
    "    result[0][11] = '降水量'\n",
    "    result[0][12] = '降水時數'\n",
    "    result[0][13] = '日照時數'\n",
    "    result[0][14] = '全天空日射量'\n",
    "    result[0][15] = '能見度'\n",
    "    result[0][16] = '紫外線指數'\n",
    "    result[0][17] = '總雲量'\n",
    "    result = np.array(result)\n",
    "    for i in range(1,13):\n",
    "        month = []\n",
    "        if year != 2016 :\n",
    "            month= ['0','31','28','31','30','31','30','31','31','30','31','30','31']\n",
    "        else:\n",
    "            month= ['0','31','29','31','30','31','30','31','31','30','31','30','31']\n",
    "        for j in range(1,int(month[i]) + 1):\n",
    "            m = \"\"\n",
    "            day = \"\"\n",
    "            if i < 10 :\n",
    "                m = \"0\" + str(i)\n",
    "            else:\n",
    "                m = str(i)\n",
    "            \n",
    "            if j < 10 :\n",
    "                day = \"0\" + str(j)\n",
    "            else:\n",
    "                day = str(j) \n",
    "            soup = get_url(url,year,m,day)\n",
    "            data = get_data(soup)\n",
    "            result =  np.vstack((result,data))       \n",
    "\n",
    "    with open('南投/%s%s.csv' %( year,name ), 'w', newline='') as csvfile:\n",
    "      # 建立 CSV 檔寫入器\n",
    "        writer = csv.writer(csvfile)\n",
    "        writer.writerows(result)     \n",
    "        print('%s年 %s站 finish' % (year , name))"
   ]
  },
  {
   "cell_type": "code",
   "execution_count": 10,
   "metadata": {
    "scrolled": true
   },
   "outputs": [
    {
     "name": "stdout",
     "output_type": "stream",
     "text": [
      "2018年 埔里站 finish\n",
      "2019年 埔里站 finish\n",
      "Wall time: 7min 7s\n"
     ]
    }
   ],
   "source": [
    "%%time\n",
    "data = pd.read_csv(\"埔里.csv\")\n",
    "\n",
    "for i in range(data.shape[0]):\n",
    "    url = data.iloc[i][0]\n",
    "    name = data.iloc[i][1]\n",
    "    for j in range(2018,2020):\n",
    "        run(url,j,name)"
   ]
  }
 ],
 "metadata": {
  "kernelspec": {
   "display_name": "Python 3",
   "language": "python",
   "name": "python3"
  },
  "language_info": {
   "codemirror_mode": {
    "name": "ipython",
    "version": 3
   },
   "file_extension": ".py",
   "mimetype": "text/x-python",
   "name": "python",
   "nbconvert_exporter": "python",
   "pygments_lexer": "ipython3",
   "version": "3.7.1"
  }
 },
 "nbformat": 4,
 "nbformat_minor": 2
}
