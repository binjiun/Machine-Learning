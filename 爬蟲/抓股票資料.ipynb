{
 "cells": [
  {
   "cell_type": "code",
   "execution_count": null,
   "metadata": {},
   "outputs": [],
   "source": [
    "import requests\n",
    "res = requests.get(\"http://isin.twse.com.tw/isin/C_public.jsp?strMode=2\")\n"
   ]
  },
  {
   "cell_type": "code",
   "execution_count": null,
   "metadata": {},
   "outputs": [],
   "source": [
    "import pandas as pd\n",
    "\n",
    "df = pd.read_html(res.text)[0]\n",
    "df"
   ]
  },
  {
   "cell_type": "code",
   "execution_count": null,
   "metadata": {},
   "outputs": [],
   "source": [
    "# 設定column名稱\n",
    "df.columns = df.iloc[0]\n",
    "# 刪除第一行\n",
    "df = df.iloc[1:]\n",
    "df"
   ]
  },
  {
   "cell_type": "code",
   "execution_count": null,
   "metadata": {},
   "outputs": [],
   "source": [
    "# 先移除row，再移除column，超過三個NaN則移除\n",
    "df = df.dropna(thresh=3, axis=0).dropna(thresh=3, axis=1)\n",
    "df.iloc[9976,:]"
   ]
  },
  {
   "cell_type": "code",
   "execution_count": null,
   "metadata": {},
   "outputs": [],
   "source": [
    "\n",
    "adress = df.iloc[0:941,0]\n",
    "adress"
   ]
  },
  {
   "cell_type": "code",
   "execution_count": null,
   "metadata": {},
   "outputs": [],
   "source": [
    "import numpy as np\n",
    "adress = np.array(adress)\n",
    "number = [ i[0:4] for i in adress]\n",
    "name = [ i[5:] for i in adress]"
   ]
  },
  {
   "cell_type": "code",
   "execution_count": null,
   "metadata": {},
   "outputs": [],
   "source": [
    "import datetime\n",
    "import pandas as pd\n",
    "pd.core.common.is_list_like = pd.api.types.is_list_like\n",
    "import pandas_datareader as web\n",
    "start = datetime.datetime(2009, 1, 1)\n",
    "end = datetime.datetime(2020, 1, 1)\n",
    "data = web.DataReader('2330.TW', 'yahoo', start, end)"
   ]
  },
  {
   "cell_type": "code",
   "execution_count": null,
   "metadata": {},
   "outputs": [],
   "source": [
    "data"
   ]
  },
  {
   "cell_type": "code",
   "execution_count": null,
   "metadata": {
    "scrolled": true
   },
   "outputs": [],
   "source": [
    "data.plot()"
   ]
  },
  {
   "cell_type": "code",
   "execution_count": null,
   "metadata": {},
   "outputs": [],
   "source": [
    "data.shape[1]"
   ]
  },
  {
   "cell_type": "code",
   "execution_count": null,
   "metadata": {},
   "outputs": [],
   "source": [
    "#套件\n",
    "import pymysql\n",
    "#設定 DB 資料 \n",
    "db = pymysql.connect(\"localhost\",\"root\",\"root\",\"taiwan\")\n",
    "#連接\n",
    "cursor = db.cursor()"
   ]
  },
  {
   "cell_type": "code",
   "execution_count": null,
   "metadata": {},
   "outputs": [],
   "source": [
    "import csv\n",
    "for count,i in enumerate(number[1:2]):\n",
    "    #創建表格\n",
    "    sql_createTb = \"\"\"CREATE TABLE %s_TW (\n",
    "                 Date  char(30) NOT NULL ,\n",
    "                 High  char(30),\n",
    "                 Low  char(30),\n",
    "                 Open  char(30),\n",
    "                 Close  char(30),\n",
    "                 Volume  char(30),\n",
    "                 Adj_Close  char(30),\n",
    "                 PRIMARY KEY(Date))\n",
    "                 \"\"\" % i\n",
    "    cursor.execute(sql_createTb)\n",
    "    db.commit()\n",
    "\n",
    "    data = web.DataReader('%s.TW' % i, 'yahoo', start, end)\n",
    "    data.to_csv('股票\\%s.TW.csv' % i,index=True,sep=',')\n",
    "    \n",
    "    data = pd.read_csv('股票\\%s.TW.csv' % i)  \n",
    "    for j in range(data.shape[0]):\n",
    "        sql_insert_temp = \"\"\n",
    "        sql_insert = \"\"\n",
    "        for z in range(data.shape[1]):\n",
    "            sql_insert_temp +=  \"'%s'\" % data.iloc[j,z]\n",
    "            if z < (data.shape[1] - 1):\n",
    "                sql_insert_temp += \",\"\n",
    "            #插入一条数据到moneytb 里面。\n",
    "        sql_insert = \"insert into taiwan.%s_TW values(%s)\" % (i,sql_insert_temp) \n",
    "        #執行SQL\n",
    "        cursor.execute(sql_insert)\n",
    "        db.commit()\n",
    "    print(i,name[count] , \"finish\")\n",
    "\n"
   ]
  }
 ],
 "metadata": {
  "kernelspec": {
   "display_name": "Python 3",
   "language": "python",
   "name": "python3"
  },
  "language_info": {
   "codemirror_mode": {
    "name": "ipython",
    "version": 3
   },
   "file_extension": ".py",
   "mimetype": "text/x-python",
   "name": "python",
   "nbconvert_exporter": "python",
   "pygments_lexer": "ipython3",
   "version": "3.7.1"
  }
 },
 "nbformat": 4,
 "nbformat_minor": 2
}
